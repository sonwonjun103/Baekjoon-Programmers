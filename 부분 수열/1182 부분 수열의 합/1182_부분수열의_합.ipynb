{
  "nbformat": 4,
  "nbformat_minor": 0,
  "metadata": {
    "colab": {
      "name": "1182 부분수열의 합.ipynb",
      "provenance": []
    },
    "kernelspec": {
      "name": "python3",
      "display_name": "Python 3"
    },
    "language_info": {
      "name": "python"
    }
  },
  "cells": [
    {
      "cell_type": "code",
      "execution_count": 2,
      "metadata": {
        "colab": {
          "base_uri": "https://localhost:8080/"
        },
        "id": "5QFqOmv3-_fi",
        "outputId": "55501b61-5ac9-4ae5-9ea1-e73eaf2f3b71"
      },
      "outputs": [
        {
          "output_type": "stream",
          "name": "stdout",
          "text": [
            "5 0\n",
            "-7 -3 -2 5 8\n",
            "1\n"
          ]
        }
      ],
      "source": [
        "from itertools import combinations\n",
        "\n",
        "N,S=map(int, input().split())\n",
        "num=list(map(int, input().split()))\n",
        "\n",
        "count=0\n",
        "for i in range(1, N+1):\n",
        "    comb=combinations(num, i)\n",
        "\n",
        "    for x in comb:\n",
        "        if sum(x)==S:\n",
        "            count+=1\n",
        "\n",
        "print(count)"
      ]
    },
    {
      "cell_type": "code",
      "source": [
        "N,S=map(int, input().split())\n",
        "num=list(map(int, input().split()))\n",
        "\n",
        "count=0\n",
        "\n",
        "def check(i, sub_sum):\n",
        "    global count\n",
        "\n",
        "    if i>=N:\n",
        "        return \n",
        "\n",
        "    sub_sum+=num[i]\n",
        "\n",
        "    if sub_sum==S:\n",
        "        count+=1\n",
        "\n",
        "    check(i+1, sub_sum)\n",
        "    check(i+1, sub_sum-num[i])\n",
        "\n",
        "check(0,0)\n",
        "print(count)"
      ],
      "metadata": {
        "colab": {
          "base_uri": "https://localhost:8080/"
        },
        "id": "maqvjSIx_i_V",
        "outputId": "436f832b-05d6-4c1f-a397-9612e2134ef7"
      },
      "execution_count": 4,
      "outputs": [
        {
          "output_type": "stream",
          "name": "stdout",
          "text": [
            "5 0\n",
            "-7 -3 -2 5 8\n",
            "1\n"
          ]
        }
      ]
    },
    {
      "cell_type": "code",
      "source": [
        ""
      ],
      "metadata": {
        "id": "7tELfHCx_8oe"
      },
      "execution_count": null,
      "outputs": []
    }
  ]
}