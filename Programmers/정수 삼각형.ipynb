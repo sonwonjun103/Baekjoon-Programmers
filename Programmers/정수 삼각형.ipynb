{
 "cells": [
  {
   "cell_type": "code",
   "execution_count": 27,
   "id": "d6be6fd4",
   "metadata": {},
   "outputs": [],
   "source": [
    "def solution(triangle):\n",
    "    answer = 0\n",
    "    for i in range(1,len(triangle)):\n",
    "        for j in range(len(triangle[i])):\n",
    "            if j==0:\n",
    "                triangle[i][j]+=triangle[i-1][j]\n",
    "            elif j==len(triangle[i])-1:\n",
    "                triangle[i][j]+=triangle[i-1][j-1]\n",
    "            else:\n",
    "                triangle[i][j]+=max(triangle[i-1][j-1], triangle[i-1][j])\n",
    "\n",
    "                \n",
    "    answer=max(triangle[-1])\n",
    "    return answer"
   ]
  },
  {
   "cell_type": "code",
   "execution_count": 28,
   "id": "275576c4",
   "metadata": {},
   "outputs": [
    {
     "name": "stdout",
     "output_type": "stream",
     "text": [
      "30\n"
     ]
    }
   ],
   "source": [
    "print(solution([[7], [3, 8], [8, 1, 0], [2, 7, 4, 4], [4, 5, 2, 6, 5]]))"
   ]
  },
  {
   "cell_type": "code",
   "execution_count": null,
   "id": "7109982b",
   "metadata": {},
   "outputs": [],
   "source": []
  }
 ],
 "metadata": {
  "kernelspec": {
   "display_name": "Python 3 (ipykernel)",
   "language": "python",
   "name": "python3"
  },
  "language_info": {
   "codemirror_mode": {
    "name": "ipython",
    "version": 3
   },
   "file_extension": ".py",
   "mimetype": "text/x-python",
   "name": "python",
   "nbconvert_exporter": "python",
   "pygments_lexer": "ipython3",
   "version": "3.9.7"
  }
 },
 "nbformat": 4,
 "nbformat_minor": 5
}
