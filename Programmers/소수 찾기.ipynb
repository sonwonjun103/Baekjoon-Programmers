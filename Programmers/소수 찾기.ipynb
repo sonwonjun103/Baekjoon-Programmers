{
 "cells": [
  {
   "cell_type": "code",
   "execution_count": 59,
   "id": "12b35920",
   "metadata": {},
   "outputs": [],
   "source": [
    "from itertools import permutations\n",
    "\n",
    "def solution(numbers):\n",
    "    answer=[]\n",
    "    nums=[n for n in numbers]\n",
    "    a=[]\n",
    "    for i in range(1,len(numbers)+1):\n",
    "        a+=list(permutations(nums, i))\n",
    "    \n",
    "    new_nums=[]\n",
    "    \n",
    "    for i in a:\n",
    "        new_nums.append(int(\"\".join(map(str,i))))\n",
    "        \n",
    "    for i in new_nums:\n",
    "        if i==0 or i==1:\n",
    "            continue\n",
    "        elif check_prime(i):\n",
    "            answer.append(i)\n",
    "    \n",
    "    return len(set(answer))\n",
    "    \n",
    "def check_prime(x):\n",
    "    for i in range(2,int(x**0.5)+1):\n",
    "        if x%i==0:\n",
    "            return False\n",
    "    return True"
   ]
  },
  {
   "cell_type": "code",
   "execution_count": 60,
   "id": "075736ee",
   "metadata": {},
   "outputs": [
    {
     "data": {
      "text/plain": [
       "2"
      ]
     },
     "execution_count": 60,
     "metadata": {},
     "output_type": "execute_result"
    }
   ],
   "source": [
    "solution([0,1,1])"
   ]
  },
  {
   "cell_type": "code",
   "execution_count": 61,
   "id": "7b5f80f7",
   "metadata": {},
   "outputs": [
    {
     "data": {
      "text/plain": [
       "3"
      ]
     },
     "execution_count": 61,
     "metadata": {},
     "output_type": "execute_result"
    }
   ],
   "source": [
    "solution([1,7])"
   ]
  },
  {
   "cell_type": "code",
   "execution_count": null,
   "id": "5e3027ff",
   "metadata": {},
   "outputs": [],
   "source": []
  }
 ],
 "metadata": {
  "kernelspec": {
   "display_name": "Python 3 (ipykernel)",
   "language": "python",
   "name": "python3"
  },
  "language_info": {
   "codemirror_mode": {
    "name": "ipython",
    "version": 3
   },
   "file_extension": ".py",
   "mimetype": "text/x-python",
   "name": "python",
   "nbconvert_exporter": "python",
   "pygments_lexer": "ipython3",
   "version": "3.9.7"
  }
 },
 "nbformat": 4,
 "nbformat_minor": 5
}
