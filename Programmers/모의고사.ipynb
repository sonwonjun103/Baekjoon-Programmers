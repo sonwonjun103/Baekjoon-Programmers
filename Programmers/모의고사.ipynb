{
 "cells": [
  {
   "cell_type": "code",
   "execution_count": 24,
   "id": "356a5429",
   "metadata": {},
   "outputs": [],
   "source": [
    "def solution(answers):\n",
    "    answer = []\n",
    "    \n",
    "    p1=[1,2,3,4,5]\n",
    "    p2=[2,1,2,3,2,4,2,5]\n",
    "    p3=[3,3,1,1,2,2,4,4,5,5]\n",
    "    \n",
    " \n",
    "    a1,a2,a3=0,0,0\n",
    "    for i in range(len(answers)):\n",
    "        index1=i%5\n",
    "        index2=i%8\n",
    "        index3=i%10\n",
    "        \n",
    "        if p1[index1]==answers[i]:\n",
    "            a1+=1\n",
    "            \n",
    "        if p2[index2]==answers[i]:\n",
    "            a2+=1\n",
    "            \n",
    "        if p3[index3]==answers[i]:\n",
    "            a3+=1\n",
    "        \n",
    "    \n",
    "    score=[]\n",
    "    score.append(a1)\n",
    "    score.append(a2)\n",
    "    score.append(a3)\n",
    "    \n",
    "    for i in range(len(score)):\n",
    "        if score[i] == max(score):\n",
    "            answer.append(i+1)\n",
    "    \n",
    "    return answer"
   ]
  },
  {
   "cell_type": "code",
   "execution_count": 25,
   "id": "549ad0f8",
   "metadata": {},
   "outputs": [
    {
     "name": "stdout",
     "output_type": "stream",
     "text": [
      "[1]\n"
     ]
    }
   ],
   "source": [
    "print(solution([1,2,3,4,5]))"
   ]
  },
  {
   "cell_type": "code",
   "execution_count": 26,
   "id": "bafd9a05",
   "metadata": {},
   "outputs": [
    {
     "name": "stdout",
     "output_type": "stream",
     "text": [
      "[1, 2, 3]\n"
     ]
    }
   ],
   "source": [
    "print(solution([1,3,2,4,2]))"
   ]
  },
  {
   "cell_type": "code",
   "execution_count": null,
   "id": "135ec0cf",
   "metadata": {},
   "outputs": [],
   "source": []
  }
 ],
 "metadata": {
  "kernelspec": {
   "display_name": "Python 3 (ipykernel)",
   "language": "python",
   "name": "python3"
  },
  "language_info": {
   "codemirror_mode": {
    "name": "ipython",
    "version": 3
   },
   "file_extension": ".py",
   "mimetype": "text/x-python",
   "name": "python",
   "nbconvert_exporter": "python",
   "pygments_lexer": "ipython3",
   "version": "3.9.7"
  }
 },
 "nbformat": 4,
 "nbformat_minor": 5
}
