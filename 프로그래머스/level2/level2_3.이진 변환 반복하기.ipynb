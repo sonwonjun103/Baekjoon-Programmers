{
 "cells": [
  {
   "cell_type": "markdown",
   "id": "3d75bcb1",
   "metadata": {},
   "source": [
    "# 3. 이진 변환 반복하기"
   ]
  },
  {
   "cell_type": "code",
   "execution_count": 67,
   "id": "60906e5b",
   "metadata": {},
   "outputs": [],
   "source": [
    "def solution(s):\n",
    "    answer=0\n",
    "    full=0\n",
    "    while 1:\n",
    "        cnt=0\n",
    "        for i in range(len(s)):\n",
    "            if s[i]==\"0\":\n",
    "                cnt+=1\n",
    "        if len(s)==1:\n",
    "            break\n",
    "        else:\n",
    "            answer+=cnt\n",
    "        full+=1\n",
    "        s=s.replace(\"0\",\"\")\n",
    "        s=binary(len(s))\n",
    " \n",
    "        result=[]\n",
    "        result.append(full)\n",
    "        result.append(answer)\n",
    "    return result\n",
    "\n",
    "def binary(n):\n",
    "    answer=[]\n",
    "    while 1:\n",
    "        if n<1:\n",
    "            break\n",
    "        answer.append(n%2)\n",
    "        n=n//2\n",
    "    answer.reverse()\n",
    "    answer=map(str, answer)\n",
    "    r=\"\"\n",
    "    for i in answer:\n",
    "        r+=i\n",
    "\n",
    "    return r"
   ]
  },
  {
   "cell_type": "code",
   "execution_count": 68,
   "id": "3652f32b",
   "metadata": {},
   "outputs": [
    {
     "data": {
      "text/plain": [
       "[4, 1]"
      ]
     },
     "execution_count": 68,
     "metadata": {},
     "output_type": "execute_result"
    }
   ],
   "source": [
    "solution(\"1111111\")"
   ]
  },
  {
   "cell_type": "code",
   "execution_count": null,
   "id": "60a05712",
   "metadata": {},
   "outputs": [],
   "source": []
  },
  {
   "cell_type": "code",
   "execution_count": null,
   "id": "1aea32a4",
   "metadata": {},
   "outputs": [],
   "source": []
  }
 ],
 "metadata": {
  "kernelspec": {
   "display_name": "Python 3",
   "language": "python",
   "name": "python3"
  },
  "language_info": {
   "codemirror_mode": {
    "name": "ipython",
    "version": 3
   },
   "file_extension": ".py",
   "mimetype": "text/x-python",
   "name": "python",
   "nbconvert_exporter": "python",
   "pygments_lexer": "ipython3",
   "version": "3.8.8"
  }
 },
 "nbformat": 4,
 "nbformat_minor": 5
}
