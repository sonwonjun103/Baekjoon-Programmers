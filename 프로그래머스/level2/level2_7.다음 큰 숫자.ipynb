{
 "cells": [
  {
   "cell_type": "markdown",
   "id": "e4414b8b",
   "metadata": {},
   "source": [
    "# 다음 큰 숫자"
   ]
  },
  {
   "cell_type": "code",
   "execution_count": 17,
   "id": "fba9dbe1",
   "metadata": {},
   "outputs": [],
   "source": [
    "def solution(n):\n",
    "    answer = 0\n",
    "    original=binary(n)\n",
    "    print(original.count(1))\n",
    "    new=[]\n",
    "    while 1:\n",
    "        if original.count(1)==new.count(1):\n",
    "            break\n",
    "        n=n+1\n",
    "        new=binary(n)\n",
    "    \n",
    "    l=len(new)\n",
    "    for i in range(l):\n",
    "        answer+=(2**(l-i-1))*new[i]\n",
    "    return answer\n",
    "\n",
    "def binary(n):\n",
    "    a=[]\n",
    "    while 1:\n",
    "        if n<1:\n",
    "            break\n",
    "        a.append(n%2)\n",
    "        n=n//2\n",
    "        \n",
    "    a.reverse()\n",
    "    return a"
   ]
  },
  {
   "cell_type": "code",
   "execution_count": 18,
   "id": "ce52d43e",
   "metadata": {},
   "outputs": [
    {
     "name": "stdout",
     "output_type": "stream",
     "text": [
      "4\n"
     ]
    },
    {
     "data": {
      "text/plain": [
       "83"
      ]
     },
     "execution_count": 18,
     "metadata": {},
     "output_type": "execute_result"
    }
   ],
   "source": [
    "solution(78)"
   ]
  },
  {
   "cell_type": "code",
   "execution_count": null,
   "id": "4a8ff4b4",
   "metadata": {},
   "outputs": [],
   "source": []
  }
 ],
 "metadata": {
  "kernelspec": {
   "display_name": "Python 3 (ipykernel)",
   "language": "python",
   "name": "python3"
  },
  "language_info": {
   "codemirror_mode": {
    "name": "ipython",
    "version": 3
   },
   "file_extension": ".py",
   "mimetype": "text/x-python",
   "name": "python",
   "nbconvert_exporter": "python",
   "pygments_lexer": "ipython3",
   "version": "3.9.7"
  }
 },
 "nbformat": 4,
 "nbformat_minor": 5
}
