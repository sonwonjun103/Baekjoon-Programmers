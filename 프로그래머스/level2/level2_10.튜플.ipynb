{
 "cells": [
  {
   "cell_type": "code",
   "execution_count": 59,
   "id": "b5a58c59",
   "metadata": {},
   "outputs": [],
   "source": [
    "s=\"{{1,2,3},{2,1},{1,2,4,3},{2}}\""
   ]
  },
  {
   "cell_type": "code",
   "execution_count": 92,
   "id": "bdbfb4c3",
   "metadata": {},
   "outputs": [],
   "source": [
    "def solution(s):\n",
    "    answer = []\n",
    "    s = s[:-2].replace('{','').replace(',',' ').split('}')\n",
    "    \n",
    "    s = [i.split() for i in s]\n",
    "    \n",
    "    s=sorted(s, key=lambda x: len(x))\n",
    "\n",
    "    for i in s:\n",
    "        for j in answer:\n",
    "            i.remove(j)\n",
    "        answer.append(i[0])\n",
    "    \n",
    "    answer = [int(i) for i in answer]\n",
    "    \n",
    "    return answer"
   ]
  },
  {
   "cell_type": "code",
   "execution_count": 93,
   "id": "37859a31",
   "metadata": {},
   "outputs": [
    {
     "data": {
      "text/plain": [
       "[2, 1, 3, 4]"
      ]
     },
     "execution_count": 93,
     "metadata": {},
     "output_type": "execute_result"
    }
   ],
   "source": [
    "solution(s)"
   ]
  },
  {
   "cell_type": "code",
   "execution_count": null,
   "id": "b40cc3d1",
   "metadata": {},
   "outputs": [],
   "source": []
  }
 ],
 "metadata": {
  "kernelspec": {
   "display_name": "Python 3 (ipykernel)",
   "language": "python",
   "name": "python3"
  },
  "language_info": {
   "codemirror_mode": {
    "name": "ipython",
    "version": 3
   },
   "file_extension": ".py",
   "mimetype": "text/x-python",
   "name": "python",
   "nbconvert_exporter": "python",
   "pygments_lexer": "ipython3",
   "version": "3.9.7"
  }
 },
 "nbformat": 4,
 "nbformat_minor": 5
}
