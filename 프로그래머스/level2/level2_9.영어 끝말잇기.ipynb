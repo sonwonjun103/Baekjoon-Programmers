{
 "cells": [
  {
   "cell_type": "markdown",
   "id": "d705979c",
   "metadata": {},
   "source": [
    "# 영어 끝말잇기"
   ]
  },
  {
   "cell_type": "code",
   "execution_count": 120,
   "id": "5994f173",
   "metadata": {},
   "outputs": [],
   "source": [
    "def solution(n, words):\n",
    "    answer = [0,0]\n",
    "    s=[]\n",
    "    num=[1]+[0]*(n-1)\n",
    "    s.append(words[0])\n",
    "    for i in range(1,len(words)):\n",
    "        start=words[i-1]\n",
    "        end=words[i]\n",
    "        j=i%n\n",
    "        if j==n-1:\n",
    "            num[n-1]+=1\n",
    "        else:\n",
    "            num[j]+=1\n",
    "       \n",
    "        if check(s, start, end)!=0:\n",
    "            s.append(end)\n",
    "        else:\n",
    "            if j==n-1:\n",
    "                answer[0]=n\n",
    "                answer[1]=num[n-1]\n",
    "            else:\n",
    "                answer[0]=j+1\n",
    "                answer[1]=num[j]\n",
    "            break\n",
    "\n",
    "    return answer\n",
    "def check(s,word1, word2):\n",
    "    if word2 in s:\n",
    "        return False\n",
    "    if word1==word2:\n",
    "        return False\n",
    "    else:\n",
    "        if word1[len(word1)-1]==word2[0]:\n",
    "            return True\n",
    "        else:\n",
    "            return False   "
   ]
  },
  {
   "cell_type": "code",
   "execution_count": 121,
   "id": "f5bf3317",
   "metadata": {},
   "outputs": [
    {
     "data": {
      "text/plain": [
       "[1, 3]"
      ]
     },
     "execution_count": 121,
     "metadata": {},
     "output_type": "execute_result"
    }
   ],
   "source": [
    "solution(2,[\"hello\", \"one\", \"even\", \"never\", \"now\", \"world\", \"draw\"])"
   ]
  },
  {
   "cell_type": "code",
   "execution_count": 122,
   "id": "242f7202",
   "metadata": {},
   "outputs": [
    {
     "data": {
      "text/plain": [
       "[3, 3]"
      ]
     },
     "execution_count": 122,
     "metadata": {},
     "output_type": "execute_result"
    }
   ],
   "source": [
    "solution(3, [\"tank\", \"kick\", \"know\", \"wheel\", \"land\", \"dream\", \"mother\", \"robot\", \"tank\"])"
   ]
  },
  {
   "cell_type": "code",
   "execution_count": null,
   "id": "7e435d62",
   "metadata": {},
   "outputs": [],
   "source": []
  }
 ],
 "metadata": {
  "kernelspec": {
   "display_name": "Python 3 (ipykernel)",
   "language": "python",
   "name": "python3"
  },
  "language_info": {
   "codemirror_mode": {
    "name": "ipython",
    "version": 3
   },
   "file_extension": ".py",
   "mimetype": "text/x-python",
   "name": "python",
   "nbconvert_exporter": "python",
   "pygments_lexer": "ipython3",
   "version": "3.9.7"
  }
 },
 "nbformat": 4,
 "nbformat_minor": 5
}
