{
 "cells": [
  {
   "cell_type": "markdown",
   "id": "70b9f8fb",
   "metadata": {},
   "source": [
    "# 올바른 괄호"
   ]
  },
  {
   "cell_type": "code",
   "execution_count": 7,
   "id": "5f4250fc",
   "metadata": {},
   "outputs": [],
   "source": [
    "def solution(s):\n",
    "    stack=[]\n",
    "    top=-1\n",
    "    for i in range(len(s)):\n",
    "        if s[0]==\")\":\n",
    "            return False\n",
    "        else:\n",
    "            if s[i]==\"(\":\n",
    "                stack.append(s[i])\n",
    "                top+=1\n",
    "            else:\n",
    "                if len(stack)==0:\n",
    "                    return False\n",
    "                elif stack[top]==\"(\":\n",
    "                    stack.pop()\n",
    "                    top-=1\n",
    "    \n",
    "    if len(stack)==0:\n",
    "        return True\n",
    "    else:\n",
    "        return False"
   ]
  },
  {
   "cell_type": "code",
   "execution_count": 8,
   "id": "e8712a23",
   "metadata": {},
   "outputs": [
    {
     "data": {
      "text/plain": [
       "False"
      ]
     },
     "execution_count": 8,
     "metadata": {},
     "output_type": "execute_result"
    }
   ],
   "source": [
    "solution(\"(()(\")"
   ]
  },
  {
   "cell_type": "code",
   "execution_count": null,
   "id": "0f644959",
   "metadata": {},
   "outputs": [],
   "source": []
  }
 ],
 "metadata": {
  "kernelspec": {
   "display_name": "Python 3",
   "language": "python",
   "name": "python3"
  },
  "language_info": {
   "codemirror_mode": {
    "name": "ipython",
    "version": 3
   },
   "file_extension": ".py",
   "mimetype": "text/x-python",
   "name": "python",
   "nbconvert_exporter": "python",
   "pygments_lexer": "ipython3",
   "version": "3.8.8"
  }
 },
 "nbformat": 4,
 "nbformat_minor": 5
}
