{
 "cells": [
  {
   "cell_type": "markdown",
   "id": "ce669605",
   "metadata": {},
   "source": [
    "# 2. JadenCase 문자열 만들기\n"
   ]
  },
  {
   "cell_type": "code",
   "execution_count": 1,
   "id": "76c4a8ad",
   "metadata": {},
   "outputs": [],
   "source": [
    "def solution2(s):\n",
    "    l=len(s)\n",
    "    answer = ''\n",
    "    word=s.split(\" \")\n",
    "    for i in range(len(word)):\n",
    "        answer+=change(word[i])\n",
    "        if i!=len(word)-1:\n",
    "            answer+=\" \"\n",
    "                \n",
    "    return answer\n",
    "\n",
    "def change(s):\n",
    "    r=''\n",
    "    for i in range(len(s)):\n",
    "        if i==0:\n",
    "            if s[i].isalpha():\n",
    "                r+=s[i].upper()\n",
    "            else:\n",
    "                r+=s[i]\n",
    "        else:\n",
    "            if s[i].isalpha():\n",
    "                r+=s[i].lower()\n",
    "            else:\n",
    "                r+=s[i]\n",
    "            \n",
    "    return r\n",
    "                \n",
    "        "
   ]
  },
  {
   "cell_type": "code",
   "execution_count": null,
   "id": "79b0d516",
   "metadata": {},
   "outputs": [],
   "source": []
  }
 ],
 "metadata": {
  "kernelspec": {
   "display_name": "Python 3",
   "language": "python",
   "name": "python3"
  },
  "language_info": {
   "codemirror_mode": {
    "name": "ipython",
    "version": 3
   },
   "file_extension": ".py",
   "mimetype": "text/x-python",
   "name": "python",
   "nbconvert_exporter": "python",
   "pygments_lexer": "ipython3",
   "version": "3.8.8"
  }
 },
 "nbformat": 4,
 "nbformat_minor": 5
}
