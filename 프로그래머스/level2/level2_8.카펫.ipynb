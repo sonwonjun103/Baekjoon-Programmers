{
 "cells": [
  {
   "cell_type": "markdown",
   "id": "f7aa49eb",
   "metadata": {},
   "source": [
    "# 카펫"
   ]
  },
  {
   "cell_type": "code",
   "execution_count": 1,
   "id": "c32988b5",
   "metadata": {},
   "outputs": [],
   "source": [
    "def solution(brown, yellow):\n",
    "    answer=[]\n",
    "    a=[]\n",
    "    width=brown+yellow\n",
    "    \n",
    "    for i in range(1, width//2+1):\n",
    "       a.append([width//i, i])\n",
    "    \n",
    "    for i in a:\n",
    "        if (i[0]-2)*(i[1]-2)==yellow:\n",
    "            answer.append(i)\n",
    "            break\n",
    "            \n",
    "    return answer[0]"
   ]
  },
  {
   "cell_type": "code",
   "execution_count": 2,
   "id": "b8d415b5",
   "metadata": {},
   "outputs": [
    {
     "data": {
      "text/plain": [
       "[4, 3]"
      ]
     },
     "execution_count": 2,
     "metadata": {},
     "output_type": "execute_result"
    }
   ],
   "source": [
    "solution(10,2)"
   ]
  },
  {
   "cell_type": "code",
   "execution_count": null,
   "id": "d7de5ed6",
   "metadata": {},
   "outputs": [],
   "source": []
  }
 ],
 "metadata": {
  "kernelspec": {
   "display_name": "Python 3 (ipykernel)",
   "language": "python",
   "name": "python3"
  },
  "language_info": {
   "codemirror_mode": {
    "name": "ipython",
    "version": 3
   },
   "file_extension": ".py",
   "mimetype": "text/x-python",
   "name": "python",
   "nbconvert_exporter": "python",
   "pygments_lexer": "ipython3",
   "version": "3.9.7"
  }
 },
 "nbformat": 4,
 "nbformat_minor": 5
}
