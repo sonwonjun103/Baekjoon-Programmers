{
 "cells": [
  {
   "cell_type": "markdown",
   "id": "b8f9d894",
   "metadata": {},
   "source": [
    "# 1. 최댓값과 최솟값"
   ]
  },
  {
   "cell_type": "code",
   "execution_count": 1,
   "id": "ec376f36",
   "metadata": {},
   "outputs": [],
   "source": [
    "def solution1(s):\n",
    "    result=[]\n",
    "    for i in s.split(' '):\n",
    "        i=int(i)\n",
    "        result.append(i)\n",
    "    answer=''\n",
    "    answer+=str(min(result))\n",
    "    answer+=' '\n",
    "    answer+=str(max(result))\n",
    "    return answer"
   ]
  }
 ],
 "metadata": {
  "kernelspec": {
   "display_name": "Python 3",
   "language": "python",
   "name": "python3"
  },
  "language_info": {
   "codemirror_mode": {
    "name": "ipython",
    "version": 3
   },
   "file_extension": ".py",
   "mimetype": "text/x-python",
   "name": "python",
   "nbconvert_exporter": "python",
   "pygments_lexer": "ipython3",
   "version": "3.8.8"
  }
 },
 "nbformat": 4,
 "nbformat_minor": 5
}
