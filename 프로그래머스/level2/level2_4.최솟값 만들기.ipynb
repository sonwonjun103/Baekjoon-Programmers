{
 "cells": [
  {
   "cell_type": "markdown",
   "id": "76157b5c",
   "metadata": {},
   "source": [
    "# 최솟값 만들기"
   ]
  },
  {
   "cell_type": "code",
   "execution_count": 1,
   "id": "94d076eb",
   "metadata": {},
   "outputs": [],
   "source": [
    "def solution(A,B):\n",
    "    answer = 0\n",
    "    value=[]\n",
    "    A.sort()\n",
    "    B.sort()\n",
    "    \n",
    "    l=len(A)\n",
    "    for i in range(l):\n",
    "        answer+=A[i]*B[l-i-1]\n",
    "\n",
    "    return answer"
   ]
  },
  {
   "cell_type": "code",
   "execution_count": null,
   "id": "ba97cd01",
   "metadata": {},
   "outputs": [],
   "source": []
  }
 ],
 "metadata": {
  "kernelspec": {
   "display_name": "Python 3",
   "language": "python",
   "name": "python3"
  },
  "language_info": {
   "codemirror_mode": {
    "name": "ipython",
    "version": 3
   },
   "file_extension": ".py",
   "mimetype": "text/x-python",
   "name": "python",
   "nbconvert_exporter": "python",
   "pygments_lexer": "ipython3",
   "version": "3.8.8"
  }
 },
 "nbformat": 4,
 "nbformat_minor": 5
}
