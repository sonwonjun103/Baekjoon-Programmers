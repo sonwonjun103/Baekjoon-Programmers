{
 "cells": [
  {
   "cell_type": "markdown",
   "id": "885cda58",
   "metadata": {},
   "source": [
    "# 피보나치 수"
   ]
  },
  {
   "cell_type": "code",
   "execution_count": 13,
   "id": "1705e6eb",
   "metadata": {},
   "outputs": [],
   "source": [
    "def solution(n):\n",
    "    fibo=[0,1]\n",
    "    for i in range(2,n+1):\n",
    "        fibo.append(fibo[i-1]+fibo[i-2])\n",
    "\n",
    "    answer=fibo[n]\n",
    "    return answer%1234567"
   ]
  },
  {
   "cell_type": "code",
   "execution_count": 14,
   "id": "d2556d22",
   "metadata": {},
   "outputs": [
    {
     "data": {
      "text/plain": [
       "55"
      ]
     },
     "execution_count": 14,
     "metadata": {},
     "output_type": "execute_result"
    }
   ],
   "source": [
    "solution(10)"
   ]
  },
  {
   "cell_type": "code",
   "execution_count": null,
   "id": "e119f162",
   "metadata": {},
   "outputs": [],
   "source": []
  }
 ],
 "metadata": {
  "kernelspec": {
   "display_name": "Python 3 (ipykernel)",
   "language": "python",
   "name": "python3"
  },
  "language_info": {
   "codemirror_mode": {
    "name": "ipython",
    "version": 3
   },
   "file_extension": ".py",
   "mimetype": "text/x-python",
   "name": "python",
   "nbconvert_exporter": "python",
   "pygments_lexer": "ipython3",
   "version": "3.9.7"
  }
 },
 "nbformat": 4,
 "nbformat_minor": 5
}
