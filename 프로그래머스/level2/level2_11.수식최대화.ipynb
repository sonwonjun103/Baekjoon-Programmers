{
 "cells": [
  {
   "cell_type": "code",
   "execution_count": 65,
   "id": "8fa9ccac",
   "metadata": {},
   "outputs": [],
   "source": [
    "s=\"100-200*300-500+20\""
   ]
  },
  {
   "cell_type": "code",
   "execution_count": 81,
   "id": "29ce325b",
   "metadata": {},
   "outputs": [],
   "source": [
    "from itertools import permutations\n",
    "\n",
    "def cal(op, num1, num2):\n",
    "    if op=='+':\n",
    "        return int(num1)+int(num2)\n",
    "    elif op=='-':\n",
    "        return int(num1)-int(num2)\n",
    "    elif op=='*':\n",
    "        return int(num1)*int(num2)\n",
    "\n",
    "def check(s, c): #s는 수식, c는 계산\n",
    "    #s=\"50*6-3*2\"\n",
    "    #만약에 들어온다.[+,-,*]\n",
    "    a=[]\n",
    "    n=\"\"\n",
    "    \n",
    "    #부호와 숫자로 나누기\n",
    "    for num in s:\n",
    "        #숫자라면\n",
    "        if num.isdigit()==True:\n",
    "            n+=num\n",
    "        else:\n",
    "            a.append(n)\n",
    "            a.append(num)\n",
    "            n=\"\"\n",
    "    a.append(n)\n",
    "\n",
    "    for ch in c:\n",
    "        stack=[]\n",
    "        while 1:\n",
    "            if len(a)==0:\n",
    "                break\n",
    "            else:\n",
    "                operator=a.pop(0)\n",
    "                if operator==ch:\n",
    "                    stack.append(cal(operator,stack.pop(), a.pop(0)))\n",
    "                else:\n",
    "                    stack.append(operator)\n",
    "        a=stack\n",
    "    \n",
    "    return abs(int(stack[0]))\n",
    "\n",
    "def solution(s):\n",
    "    op=['+','-','*']\n",
    "    result=[]\n",
    "    for c in list(permutations(op)):\n",
    "        result.append(check(s, c))\n",
    "    return max(result)"
   ]
  },
  {
   "cell_type": "code",
   "execution_count": 82,
   "id": "aeb463f3",
   "metadata": {},
   "outputs": [
    {
     "data": {
      "text/plain": [
       "60420"
      ]
     },
     "execution_count": 82,
     "metadata": {},
     "output_type": "execute_result"
    }
   ],
   "source": [
    "solution(s)"
   ]
  },
  {
   "cell_type": "code",
   "execution_count": 74,
   "id": "72da0cba",
   "metadata": {},
   "outputs": [
    {
     "data": {
      "text/plain": [
       "True"
      ]
     },
     "execution_count": 74,
     "metadata": {},
     "output_type": "execute_result"
    }
   ],
   "source": [
    "a='0'\n",
    "a.isdigit()"
   ]
  },
  {
   "cell_type": "code",
   "execution_count": null,
   "id": "d6c309d0",
   "metadata": {},
   "outputs": [],
   "source": []
  }
 ],
 "metadata": {
  "kernelspec": {
   "display_name": "Python 3 (ipykernel)",
   "language": "python",
   "name": "python3"
  },
  "language_info": {
   "codemirror_mode": {
    "name": "ipython",
    "version": 3
   },
   "file_extension": ".py",
   "mimetype": "text/x-python",
   "name": "python",
   "nbconvert_exporter": "python",
   "pygments_lexer": "ipython3",
   "version": "3.9.7"
  }
 },
 "nbformat": 4,
 "nbformat_minor": 5
}
