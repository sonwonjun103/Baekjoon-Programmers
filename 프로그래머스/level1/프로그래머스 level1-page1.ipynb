{
 "cells": [
  {
   "cell_type": "markdown",
   "id": "e2ac7804",
   "metadata": {},
   "source": [
    "# 1. 짝수와 홀수"
   ]
  },
  {
   "cell_type": "code",
   "execution_count": 12,
   "id": "7f2955ac",
   "metadata": {},
   "outputs": [],
   "source": [
    "def solution1(num):\n",
    "    if num%2==0 or num==0:\n",
    "        return \"Even\"\n",
    "    else:\n",
    "        return \"Odd\""
   ]
  },
  {
   "cell_type": "markdown",
   "id": "29cb308b",
   "metadata": {},
   "source": [
    "# 2. 평균 구하기"
   ]
  },
  {
   "cell_type": "code",
   "execution_count": 13,
   "id": "d28c6b2a",
   "metadata": {},
   "outputs": [],
   "source": [
    "def solution2(arr):\n",
    "    return sum(arr)/len(arr)"
   ]
  },
  {
   "cell_type": "markdown",
   "id": "00eb8d10",
   "metadata": {},
   "source": [
    "# 3. 약수의 합"
   ]
  },
  {
   "cell_type": "code",
   "execution_count": 10,
   "id": "34efb60b",
   "metadata": {},
   "outputs": [],
   "source": [
    "def solution3(n):\n",
    "    s=[]\n",
    "    for i in range(1,int(n**0.5)+1):\n",
    "        if n%i==0:\n",
    "            s.append(i)\n",
    "            if i*i!=n:\n",
    "                s.append(n//i)\n",
    "    answer = sum(s)\n",
    "    return answer"
   ]
  },
  {
   "cell_type": "markdown",
   "id": "9d00293a",
   "metadata": {},
   "source": [
    "# 4. 정수 제곱근 판별"
   ]
  },
  {
   "cell_type": "code",
   "execution_count": 19,
   "id": "f00d4ac2",
   "metadata": {},
   "outputs": [],
   "source": [
    "def solution4(n):\n",
    "    for i in range(1,int(n**0.5)+1):\n",
    "        if i*i==n:\n",
    "            return (i+1)**2\n",
    "    return -1"
   ]
  },
  {
   "cell_type": "code",
   "execution_count": 27,
   "id": "4d7ae80c",
   "metadata": {},
   "outputs": [],
   "source": [
    "def solution4(n):\n",
    "    return \"no\" if n**0.5 % 1 else int((n**0.5+1)**2) "
   ]
  },
  {
   "cell_type": "markdown",
   "id": "7c353650",
   "metadata": {},
   "source": [
    "# 5. 자릿수 더하기"
   ]
  },
  {
   "cell_type": "code",
   "execution_count": 29,
   "id": "8945fe38",
   "metadata": {},
   "outputs": [],
   "source": [
    "def solution5(n):\n",
    "    answer = 0\n",
    "    n=str(n)\n",
    "    # [실행] 버튼을 누르면 출력 값을 볼 수 있습니다.\n",
    "    for i in n:\n",
    "        i=int(i)\n",
    "        answer+=i\n",
    "\n",
    "    return answer"
   ]
  },
  {
   "cell_type": "code",
   "execution_count": 30,
   "id": "073d3233",
   "metadata": {},
   "outputs": [
    {
     "data": {
      "text/plain": [
       "6"
      ]
     },
     "execution_count": 30,
     "metadata": {},
     "output_type": "execute_result"
    }
   ],
   "source": [
    "solution5(123)"
   ]
  },
  {
   "cell_type": "markdown",
   "id": "795d817d",
   "metadata": {},
   "source": [
    "# 6. 자연수 뒤집어 배열로 만들기"
   ]
  },
  {
   "cell_type": "code",
   "execution_count": 61,
   "id": "9970c39d",
   "metadata": {},
   "outputs": [],
   "source": [
    "def solution6(n):\n",
    "    answer = []\n",
    "    n=str(n)\n",
    "    for i in range(len(n)-1,-1,-1):\n",
    "        answer.append(int(n[i]))\n",
    "    return answer"
   ]
  },
  {
   "cell_type": "code",
   "execution_count": 63,
   "id": "8c42f6b4",
   "metadata": {},
   "outputs": [],
   "source": [
    "def solution6(n):\n",
    "    return list(map(int, reversed(str(n))))"
   ]
  },
  {
   "cell_type": "markdown",
   "id": "86c384f1",
   "metadata": {},
   "source": [
    "# 7.문자열 내 p와 y의 개수"
   ]
  },
  {
   "cell_type": "code",
   "execution_count": 71,
   "id": "585c9b0d",
   "metadata": {},
   "outputs": [],
   "source": [
    "def solution(s):\n",
    "    answer = True\n",
    "    \n",
    "    # [실행] 버튼을 누르면 출력 값을 볼 수 있습니다.\n",
    "    \n",
    "    \n",
    "    if s.count('p')+s.count('P')==s.count('y')+s.count('Y'):\n",
    "        return True\n",
    "    else:\n",
    "        return False"
   ]
  },
  {
   "cell_type": "markdown",
   "id": "430daa94",
   "metadata": {},
   "source": [
    "# 8. 하샤드 수"
   ]
  },
  {
   "cell_type": "code",
   "execution_count": 82,
   "id": "ddec3043",
   "metadata": {},
   "outputs": [],
   "source": [
    "def solution8(x):\n",
    "    x=str(x)\n",
    "    a=0\n",
    "    for i in x:\n",
    "        i=int(i)\n",
    "        a+=i\n",
    "        \n",
    "    if int(x)%a==0:\n",
    "        return True\n",
    "    else:\n",
    "        return False"
   ]
  },
  {
   "cell_type": "code",
   "execution_count": 83,
   "id": "cead56ab",
   "metadata": {},
   "outputs": [],
   "source": [
    "def Harshad(n):\n",
    "    return n % sum([int(c) for c in str(n)]) == 0"
   ]
  },
  {
   "cell_type": "markdown",
   "id": "d8c0b6a3",
   "metadata": {},
   "source": [
    "# 9. 정수 내림차순 배치하기"
   ]
  },
  {
   "cell_type": "code",
   "execution_count": 93,
   "id": "ad6bf613",
   "metadata": {},
   "outputs": [],
   "source": [
    "def solution9(n):\n",
    "    k=str(n)\n",
    "    \n",
    "    n=[]\n",
    "    for i in k:\n",
    "        n.append(i)\n",
    "    \n",
    "    n.sort(reverse=True)    \n",
    "    answer = 0\n",
    "    l=len(n)\n",
    "    for i in range(l):\n",
    "        answer+=(10**(l-i-1))*int(n[i])\n",
    "    return answer"
   ]
  },
  {
   "cell_type": "code",
   "execution_count": 95,
   "id": "53ddd0c9",
   "metadata": {},
   "outputs": [],
   "source": [
    "def solution(n):\n",
    "    ls = list(str(n))\n",
    "    ls.sort(reverse = True)\n",
    "    return int(\"\".join(ls))"
   ]
  },
  {
   "cell_type": "markdown",
   "id": "45deb4d5",
   "metadata": {},
   "source": [
    "# 10. 문자열을 정수로"
   ]
  },
  {
   "cell_type": "code",
   "execution_count": 6,
   "id": "ae2f0b80",
   "metadata": {},
   "outputs": [],
   "source": [
    "def solution10(s):\n",
    "    return int(s)"
   ]
  },
  {
   "cell_type": "markdown",
   "id": "54a037c0",
   "metadata": {},
   "source": [
    "# 11.x만큼 간격이 있는 n개의 숫자"
   ]
  },
  {
   "cell_type": "code",
   "execution_count": 35,
   "id": "701e1f0c",
   "metadata": {},
   "outputs": [],
   "source": [
    "def solution11(x, n):\n",
    "    answer = []\n",
    "    a=x\n",
    "    while 1:\n",
    "        if len(answer)==n:\n",
    "            break\n",
    "        answer.append(x)\n",
    "        x+=a\n",
    "    \n",
    "    return answer"
   ]
  },
  {
   "cell_type": "code",
   "execution_count": 36,
   "id": "f16d1c0b",
   "metadata": {},
   "outputs": [
    {
     "data": {
      "text/plain": [
       "[2, 4, 6, 8, 10]"
      ]
     },
     "execution_count": 36,
     "metadata": {},
     "output_type": "execute_result"
    }
   ],
   "source": [
    "solution11(2,5)"
   ]
  },
  {
   "cell_type": "markdown",
   "id": "82c17be6",
   "metadata": {},
   "source": [
    "# 12. 나머지가 1이 되는 수 찾기\n"
   ]
  },
  {
   "cell_type": "code",
   "execution_count": 37,
   "id": "bc6de0b9",
   "metadata": {},
   "outputs": [],
   "source": [
    "def solution12(n):\n",
    "    for i in range(1,n):\n",
    "        if n%i==1:\n",
    "            return i"
   ]
  },
  {
   "cell_type": "markdown",
   "id": "5ea3a447",
   "metadata": {},
   "source": [
    "# 13. 콜라츠 추측\n"
   ]
  },
  {
   "cell_type": "code",
   "execution_count": 56,
   "id": "d068a6d8",
   "metadata": {},
   "outputs": [],
   "source": [
    "def solution13(num):\n",
    "    answer = 0\n",
    "    cnt=0\n",
    "    while 1:\n",
    "        if num==1 or cnt==500:\n",
    "            break\n",
    "            \n",
    "        if num%2==0:\n",
    "            num=num//2\n",
    "        elif num%2==1:\n",
    "            num=num*3+1\n",
    "      \n",
    "        answer+=1\n",
    "        cnt+=1\n",
    "    \n",
    "    if cnt==500:\n",
    "        return -1\n",
    "    return answer"
   ]
  },
  {
   "cell_type": "markdown",
   "id": "597f5e10",
   "metadata": {},
   "source": [
    "# 14. 두 정수 사이의 합"
   ]
  },
  {
   "cell_type": "code",
   "execution_count": 58,
   "id": "9e8f5ec0",
   "metadata": {},
   "outputs": [],
   "source": [
    "def solution14(a, b):\n",
    "    answer=0\n",
    "    if a==b:\n",
    "        return a\n",
    "    elif a>b:\n",
    "        for i in range(b, a+1):\n",
    "            answer+=i\n",
    "    else:\n",
    "        for i in range(a, b+1):\n",
    "            answer+=i\n",
    "    return answer"
   ]
  },
  {
   "cell_type": "markdown",
   "id": "72d0a92c",
   "metadata": {},
   "source": [
    "# 15. 서울에서 김서방 찾기\n"
   ]
  },
  {
   "cell_type": "code",
   "execution_count": 65,
   "id": "a0ba0ac0",
   "metadata": {},
   "outputs": [],
   "source": [
    "def solution15(seoul):\n",
    "    index=0\n",
    "    for i in range(len(seoul)):\n",
    "        if seoul[i]==\"Kim\":\n",
    "            index=i\n",
    "    answer = '김서방은 '+str(i)+'에 있다'\n",
    "    return answer"
   ]
  },
  {
   "cell_type": "code",
   "execution_count": 66,
   "id": "0a04d52e",
   "metadata": {},
   "outputs": [],
   "source": [
    "def solution15(seoul):\n",
    "    return \"김서방은 {}에 있다\".format(seoul.index('Kim'))"
   ]
  },
  {
   "cell_type": "markdown",
   "id": "d0b41da7",
   "metadata": {},
   "source": [
    "# 16. 핸드폰 번호 가리기\n"
   ]
  },
  {
   "cell_type": "code",
   "execution_count": 70,
   "id": "c501094c",
   "metadata": {},
   "outputs": [],
   "source": [
    "def solution16(phone_number):\n",
    "    s=(len(phone_number)-4)*'*'\n",
    "    answer = s+phone_number[-4:]\n",
    "    return answer"
   ]
  },
  {
   "cell_type": "markdown",
   "id": "3ac2a4ea",
   "metadata": {},
   "source": [
    "# 17. 나누어 떨어지는 숫자 배열\n"
   ]
  },
  {
   "cell_type": "code",
   "execution_count": 75,
   "id": "28fb589f",
   "metadata": {},
   "outputs": [],
   "source": [
    "def solution17(arr, divisor):\n",
    "    answer = []\n",
    "    for i in arr:\n",
    "        if i%divisor==0:\n",
    "            answer.append(i)\n",
    "    answer.sort()\n",
    "    \n",
    "    if len(answer)==0:\n",
    "        answer.append(-1)\n",
    "    return answer"
   ]
  },
  {
   "cell_type": "markdown",
   "id": "902869e5",
   "metadata": {},
   "source": [
    "# 18.제일 작은 수 제거하기\n"
   ]
  },
  {
   "cell_type": "code",
   "execution_count": 92,
   "id": "4d64b820",
   "metadata": {},
   "outputs": [],
   "source": [
    "def solution18(arr):\n",
    "    arr.remove(min(arr))\n",
    "    if len(arr)==0:\n",
    "        return [-1]\n",
    "    return arr"
   ]
  },
  {
   "cell_type": "markdown",
   "id": "486e709b",
   "metadata": {},
   "source": [
    "# 19. 음양 더하기"
   ]
  },
  {
   "cell_type": "code",
   "execution_count": 100,
   "id": "5ed061ec",
   "metadata": {},
   "outputs": [],
   "source": [
    "def solution19(absolutes, signs):\n",
    "    answer = 0\n",
    "    for i in range(len(signs)):\n",
    "        if signs[i]=='true':\n",
    "            answer+=absolutes[i]\n",
    "        else:\n",
    "            answer-=absolutes[i]\n",
    "    \n",
    "    return answer"
   ]
  },
  {
   "cell_type": "markdown",
   "id": "ecbd0d7e",
   "metadata": {},
   "source": [
    "# 20. 수박수박수박수박수박수?\n"
   ]
  },
  {
   "cell_type": "code",
   "execution_count": 102,
   "id": "0a0742c6",
   "metadata": {},
   "outputs": [],
   "source": [
    "def solution20(n):\n",
    "    answer = '수박'\n",
    "    if n%2==0:\n",
    "        return answer*(n//2)\n",
    "    else:\n",
    "        return answer*(n//2)+'수'"
   ]
  },
  {
   "cell_type": "code",
   "execution_count": 104,
   "id": "be66fabc",
   "metadata": {},
   "outputs": [
    {
     "data": {
      "text/plain": [
       "'수박수박'"
      ]
     },
     "execution_count": 104,
     "metadata": {},
     "output_type": "execute_result"
    }
   ],
   "source": [
    "solution20(4)"
   ]
  }
 ],
 "metadata": {
  "kernelspec": {
   "display_name": "Python 3",
   "language": "python",
   "name": "python3"
  },
  "language_info": {
   "codemirror_mode": {
    "name": "ipython",
    "version": 3
   },
   "file_extension": ".py",
   "mimetype": "text/x-python",
   "name": "python",
   "nbconvert_exporter": "python",
   "pygments_lexer": "ipython3",
   "version": "3.8.8"
  }
 },
 "nbformat": 4,
 "nbformat_minor": 5
}
