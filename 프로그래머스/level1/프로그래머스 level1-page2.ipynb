{
 "cells": [
  {
   "cell_type": "markdown",
   "id": "d568381a",
   "metadata": {},
   "source": [
    "# 1.가운데 글자 가져오기\n"
   ]
  },
  {
   "cell_type": "code",
   "execution_count": 6,
   "id": "1a4687f2",
   "metadata": {},
   "outputs": [],
   "source": [
    "def solution1(s):\n",
    "    l=len(s)\n",
    "    if l%2==0:\n",
    "        answer=s[l//2-1:l//2+1]\n",
    "    else:\n",
    "        answer=s[l//2]\n",
    "    return answer"
   ]
  },
  {
   "cell_type": "markdown",
   "id": "dc93d027",
   "metadata": {},
   "source": [
    "# 2. 없는 숫자 더하기"
   ]
  },
  {
   "cell_type": "code",
   "execution_count": 9,
   "id": "b3c25562",
   "metadata": {},
   "outputs": [],
   "source": [
    "def solution2(numbers):\n",
    "    num=[0,1,2,3,4,5,6,7,8,9]\n",
    "    answer=0\n",
    "    \n",
    "    for i in range(len(num)):\n",
    "        if num[i] not in numbers:\n",
    "            answer+=num[i]          \n",
    "  \n",
    "    return answer"
   ]
  },
  {
   "cell_type": "markdown",
   "id": "c940001e",
   "metadata": {},
   "source": [
    "# 3. 내적"
   ]
  },
  {
   "cell_type": "code",
   "execution_count": 10,
   "id": "2d736c61",
   "metadata": {},
   "outputs": [],
   "source": [
    "def solution3(a, b):\n",
    "    answer = 0\n",
    "    for i in range(len(a)):\n",
    "        answer+=a[i]*b[i]\n",
    "    return answer"
   ]
  },
  {
   "cell_type": "markdown",
   "id": "e2842649",
   "metadata": {},
   "source": [
    "# 4. 문자열 내림차순으로 배치하기"
   ]
  },
  {
   "cell_type": "code",
   "execution_count": 3,
   "id": "7880090c",
   "metadata": {},
   "outputs": [],
   "source": [
    "def solution4(s):\n",
    "    s=list(s)\n",
    "    s.sort(reverse=True)\n",
    "    return str(\"\".join(s))"
   ]
  },
  {
   "cell_type": "markdown",
   "id": "76d98a35",
   "metadata": {},
   "source": [
    "# 5. 문자열 다루기 기본\n"
   ]
  },
  {
   "cell_type": "code",
   "execution_count": 16,
   "id": "92f27ff3",
   "metadata": {},
   "outputs": [],
   "source": [
    "def solution5(s):\n",
    "    t=[]\n",
    "    for i in s:\n",
    "        for j in range(65, 123):\n",
    "            if i==chr(j):\n",
    "                return False\n",
    "    if len(s)==4 or len(s)==6:\n",
    "        return True\n",
    "    return False"
   ]
  },
  {
   "cell_type": "code",
   "execution_count": 17,
   "id": "91c834e6",
   "metadata": {},
   "outputs": [],
   "source": [
    "def solution5(s):\n",
    "    return s.isdigit() and len(s) in (4, 6)"
   ]
  },
  {
   "cell_type": "markdown",
   "id": "8eb22c4f",
   "metadata": {},
   "source": [
    "# 6. 약수의 개수와 덧셈\n"
   ]
  },
  {
   "cell_type": "code",
   "execution_count": 23,
   "id": "287673de",
   "metadata": {},
   "outputs": [],
   "source": [
    "def solution6(left, right):\n",
    "    answer=0\n",
    "    for i in range(left, right+1):\n",
    "        s=divide_number(i)\n",
    "        print(s)\n",
    "        if s%2==0:\n",
    "            answer+=i\n",
    "        else:\n",
    "            answer-=i\n",
    "    return answer\n",
    "\n",
    "def divide_number(n):\n",
    "    cnt=0\n",
    "    for i in range(1,n+1):\n",
    "        if n%i==0:\n",
    "            cnt+=1\n",
    "    return cnt"
   ]
  },
  {
   "cell_type": "code",
   "execution_count": 25,
   "id": "461d8025",
   "metadata": {},
   "outputs": [],
   "source": [
    "def solution6(left, right):\n",
    "    answer = 0\n",
    "    for i in range(left,right+1):\n",
    "        if int(i**0.5)==i**0.5:\n",
    "            answer -= i\n",
    "        else:\n",
    "            answer += i\n",
    "    return answer"
   ]
  },
  {
   "cell_type": "markdown",
   "id": "9e1b18ef",
   "metadata": {},
   "source": [
    "# 7. 행렬의 덧셈\n"
   ]
  },
  {
   "cell_type": "code",
   "execution_count": 44,
   "id": "b487d5dc",
   "metadata": {},
   "outputs": [],
   "source": [
    "def solution7(arr1, arr2):\n",
    "    n=len(arr1)\n",
    "    answer = [[0]* len(arr1[0]) for _ in range(n)]\n",
    "    \n",
    "    for i in range(n):\n",
    "        for j in range(len(arr1[i])):\n",
    "            answer[i][j]=arr1[i][j]+arr2[i][j]\n",
    "    return answer"
   ]
  },
  {
   "cell_type": "code",
   "execution_count": 46,
   "id": "375c40f5",
   "metadata": {},
   "outputs": [],
   "source": [
    "def solution7(A,B):\n",
    "    answer = [[c + d for c, d in zip(a, b)] for a, b in zip(A,B)]\n",
    "    return answer"
   ]
  },
  {
   "cell_type": "markdown",
   "id": "21d9fc61",
   "metadata": {},
   "source": [
    "# 8. 직사각형 별찍기"
   ]
  },
  {
   "cell_type": "code",
   "execution_count": 47,
   "id": "e1714559",
   "metadata": {},
   "outputs": [
    {
     "name": "stdout",
     "output_type": "stream",
     "text": [
      "5 3\n",
      "*****\n",
      "*****\n",
      "*****\n"
     ]
    }
   ],
   "source": [
    "a, b = map(int, input().strip().split(' '))\n",
    "for i in range(b):\n",
    "    print(\"*\"*a)"
   ]
  },
  {
   "cell_type": "markdown",
   "id": "8df7687d",
   "metadata": {},
   "source": [
    "# 9. 부족한 금액 계산하기\n"
   ]
  },
  {
   "cell_type": "code",
   "execution_count": 50,
   "id": "378bdfeb",
   "metadata": {},
   "outputs": [],
   "source": [
    "def solution9(price, money, count):\n",
    "    r=0\n",
    "    while 1:\n",
    "        if count==0:\n",
    "            break\n",
    "        r+=price*count\n",
    "        count-=1\n",
    "    \n",
    "    answer=r-money\n",
    "    \n",
    "    if answer<=0:\n",
    "        return 0\n",
    "    else:\n",
    "        return answer"
   ]
  },
  {
   "cell_type": "code",
   "execution_count": 52,
   "id": "2993b35d",
   "metadata": {},
   "outputs": [
    {
     "data": {
      "text/plain": [
       "25"
      ]
     },
     "execution_count": 52,
     "metadata": {},
     "output_type": "execute_result"
    }
   ],
   "source": [
    "solution9(3, 20, 5)"
   ]
  },
  {
   "cell_type": "markdown",
   "id": "4d7e89e9",
   "metadata": {},
   "source": [
    "# 10. 최대공약수와 최소공배수"
   ]
  },
  {
   "cell_type": "code",
   "execution_count": 72,
   "id": "29250cde",
   "metadata": {},
   "outputs": [],
   "source": [
    "def solution10(n,m):\n",
    "    answer = []\n",
    "    \n",
    "    if n>m:\n",
    "        small=m\n",
    "        big=n\n",
    "    else:\n",
    "        small=n\n",
    "        big=m\n",
    "        \n",
    "    for i in range(1, big+1):\n",
    "        if big%i==0 and small%i==0:\n",
    "            gcd=i\n",
    "    \n",
    "            \n",
    "    answer.append(gcd)\n",
    "    answer.append(n*m//gcd)\n",
    "    \n",
    "    return answer"
   ]
  },
  {
   "cell_type": "markdown",
   "id": "495676c2",
   "metadata": {},
   "source": [
    "# 11. 같은 숫자는 싫어\n"
   ]
  },
  {
   "cell_type": "code",
   "execution_count": 81,
   "id": "53ddcef7",
   "metadata": {},
   "outputs": [],
   "source": [
    "def solution11(arr):\n",
    "    stack=[]\n",
    "    stack.append(arr[0])\n",
    "    \n",
    "    cnt=0\n",
    "    for i in range(1,len(arr)):\n",
    "        if stack[cnt]==arr[i]:\n",
    "            continue\n",
    "        else:\n",
    "            stack.append(arr[i])\n",
    "            cnt+=1\n",
    "    \n",
    "    return stack"
   ]
  },
  {
   "cell_type": "markdown",
   "id": "c93a7104",
   "metadata": {},
   "source": [
    "# 12. 이상한 문자 만들기\n"
   ]
  },
  {
   "cell_type": "code",
   "execution_count": 103,
   "id": "0403582e",
   "metadata": {},
   "outputs": [],
   "source": [
    "def solution12(s):\n",
    "    answer = ''\n",
    "    s=s.split(' ')\n",
    "    cnt=0\n",
    "    for i in s:\n",
    "        for j in range(len(i)):\n",
    "            if j%2==0:\n",
    "                answer+=i[j].upper()\n",
    "            else:\n",
    "                answer+=i[j].lower()\n",
    "        cnt+=1\n",
    "        if cnt!=len(s):\n",
    "            answer+=' '\n",
    "    return answer"
   ]
  },
  {
   "cell_type": "code",
   "execution_count": 104,
   "id": "168e3685",
   "metadata": {},
   "outputs": [
    {
     "data": {
      "text/plain": [
       "'TrY HeLlO WoRlD'"
      ]
     },
     "execution_count": 104,
     "metadata": {},
     "output_type": "execute_result"
    }
   ],
   "source": [
    "solution12(\"try hello world\")"
   ]
  },
  {
   "cell_type": "markdown",
   "id": "722c7460",
   "metadata": {},
   "source": [
    "# 13. 3진법 뒤집기"
   ]
  },
  {
   "cell_type": "code",
   "execution_count": 134,
   "id": "acd67ba9",
   "metadata": {},
   "outputs": [],
   "source": [
    "def solution13(n):\n",
    "    answer = 0\n",
    "    three_n=[]\n",
    "    number=n\n",
    "    while 1:\n",
    "        if n<3:\n",
    "            break\n",
    "        three_n.append(int(n%3))\n",
    "        n/=3\n",
    "        \n",
    "    three_n.append(int(n))\n",
    "\n",
    "    l=len(three_n)\n",
    "    for i in range(l):\n",
    "        answer+=3**(l-i-1)*three_n[i]\n",
    "    \n",
    "    return answer"
   ]
  },
  {
   "cell_type": "markdown",
   "id": "fb50a361",
   "metadata": {},
   "source": [
    "# 14. 예산\n"
   ]
  },
  {
   "cell_type": "code",
   "execution_count": 176,
   "id": "46425f86",
   "metadata": {},
   "outputs": [],
   "source": [
    "def solution14(d, budget):\n",
    "    if sum(d)<=budget:\n",
    "        return len(d)\n",
    "    \n",
    "    d.sort()\n",
    "    i=0\n",
    "    cnt=0\n",
    "    while 1:\n",
    "        budget-=d[i]\n",
    "        if budget<0:\n",
    "            break\n",
    "        \n",
    "        i+=1\n",
    "        cnt+=1\n",
    "    return cnt"
   ]
  },
  {
   "cell_type": "markdown",
   "id": "d4b4daad",
   "metadata": {},
   "source": [
    "# 15. 시저 암호\n"
   ]
  },
  {
   "cell_type": "code",
   "execution_count": 48,
   "id": "69869c9f",
   "metadata": {},
   "outputs": [],
   "source": [
    "def solution15(s, n):\n",
    "    answer = ''\n",
    "    # 65 90123\n",
    "    # 0 58 \n",
    "    \n",
    "    for i in s:\n",
    "        if i==\" \":\n",
    "            answer+=\" \"\n",
    "        elif i.islower():\n",
    "            c=ord(i)+n\n",
    "            print(c)\n",
    "            if c>122:\n",
    "                answer+=chr(c-26)\n",
    "            else:\n",
    "                answer+=chr(c)\n",
    "        else:\n",
    "            c=ord(i)+n\n",
    "            print(c)\n",
    "            if c>90:\n",
    "                answer+=chr(c-26)\n",
    "            else:\n",
    "                answer+=chr(c)\n",
    "    return answer"
   ]
  },
  {
   "cell_type": "markdown",
   "id": "641d4cef",
   "metadata": {},
   "source": [
    "# 16. [1차] 비밀지도"
   ]
  },
  {
   "cell_type": "code",
   "execution_count": 138,
   "id": "c541c9b0",
   "metadata": {},
   "outputs": [],
   "source": [
    "def solution16(n, arr1, arr2):\n",
    "    map1=[]\n",
    "    map2=[]\n",
    "    answer=[]\n",
    "    for i in range(n):\n",
    "        map1.append(binary(n, arr1[i]))\n",
    "        map2.append(binary(n, arr2[i]))\n",
    "        \n",
    "    for i in range(n):\n",
    "        c=\"\"\n",
    "        for j in range(n):\n",
    "            if map1[i][j]==0 and map2[i][j]==0:\n",
    "                c+=\" \"\n",
    "            else:\n",
    "                c+=\"#\"\n",
    "        answer.append(c)\n",
    "\n",
    "    return answer\n",
    "\n",
    "\n",
    "def binary(n, num):\n",
    "    index=0\n",
    "    b=[0]*n\n",
    "    \n",
    "    while 1:\n",
    "        if num%2==1:\n",
    "            b[index]=1\n",
    "        index+=1\n",
    "        if num<2:\n",
    "            break\n",
    "        num=num//2\n",
    "\n",
    "    b.reverse()\n",
    "    return b"
   ]
  },
  {
   "cell_type": "markdown",
   "id": "81c10e4f",
   "metadata": {},
   "source": [
    "# 17. 최소직사각형"
   ]
  },
  {
   "cell_type": "code",
   "execution_count": 175,
   "id": "25445466",
   "metadata": {},
   "outputs": [],
   "source": [
    "def solution17(sizes):\n",
    "    a=max(max(i) for i in sizes)\n",
    "    b=max(min(i) for i in sizes)\n",
    "    \n",
    "    return a*b"
   ]
  },
  {
   "cell_type": "markdown",
   "id": "d7d1ead1",
   "metadata": {},
   "source": [
    "# 18. 문자열 내 마음대로 정렬하기"
   ]
  },
  {
   "cell_type": "code",
   "execution_count": 203,
   "id": "88e7fe1a",
   "metadata": {},
   "outputs": [],
   "source": [
    "def solution18(strings, n):\n",
    "    answer = sorted(strings, key=lambda x:(x[n], x))\n",
    "    return answer"
   ]
  },
  {
   "cell_type": "markdown",
   "id": "188a8e84",
   "metadata": {},
   "source": [
    "# 19. K번째 수"
   ]
  },
  {
   "cell_type": "code",
   "execution_count": 206,
   "id": "533b2f2b",
   "metadata": {},
   "outputs": [],
   "source": [
    "def solution19(array, commands):\n",
    "    answer = []\n",
    "    \n",
    "    for i in commands:\n",
    "        a=[]\n",
    "        start=i[0]\n",
    "        end=i[1]\n",
    "        condition=i[2]\n",
    "        \n",
    "        a=array[start-1:end]\n",
    "        a.sort()\n",
    "        \n",
    "        answer.append(a[condition-1])\n",
    "    \n",
    "    return answer"
   ]
  },
  {
   "cell_type": "markdown",
   "id": "497749b7",
   "metadata": {},
   "source": [
    "# 20. 숫자 문자열과 영단어"
   ]
  },
  {
   "cell_type": "code",
   "execution_count": 224,
   "id": "325b004b",
   "metadata": {},
   "outputs": [],
   "source": [
    "def solution20(s):\n",
    "    info={'one':1, 'two':2, 'three':3, 'four':4, 'five':5, 'six':6, 'seven':7, 'eight':8, 'nine':9, 'zero':0}\n",
    "    print(info.keys())\n",
    "    answer = \"\"\n",
    "    c=\"\"\n",
    "    for i in s:\n",
    "        if i.isdigit():\n",
    "            answer+=i\n",
    "        else:\n",
    "            c+=i\n",
    "            if c in info.keys():\n",
    "                answer+=str(info[c])\n",
    "                c=\"\"\n",
    "           \n",
    "    return int(answer)"
   ]
  },
  {
   "cell_type": "markdown",
   "id": "83694ff2",
   "metadata": {},
   "source": [
    "# 21. 두 개뽑아서 더하기"
   ]
  },
  {
   "cell_type": "code",
   "execution_count": 227,
   "id": "21b0dab1",
   "metadata": {},
   "outputs": [],
   "source": [
    "def solution21(numbers):\n",
    "    answer = []\n",
    "    l=len(numbers)\n",
    "    for i in range(l):\n",
    "        for j in range(i+1,l):\n",
    "            answer.append(numbers[i]+numbers[j])\n",
    "    answer=list(set(answer))\n",
    "    answer.sort()\n",
    "    return answer"
   ]
  },
  {
   "cell_type": "markdown",
   "id": "a444d8c7",
   "metadata": {},
   "source": [
    "# 22. 2016년"
   ]
  },
  {
   "cell_type": "code",
   "execution_count": 228,
   "id": "3c326714",
   "metadata": {},
   "outputs": [],
   "source": [
    "def solution22(a, b):\n",
    "    months = [31, 29, 31, 30, 31, 30,31, 31, 30, 31, 30, 31]\n",
    "    days=['FRI','SAT','SUN','MON','TUE','WED','THU']\n",
    "    answer = 0\n",
    "    \n",
    "    for i in range(a-1):\n",
    "        answer+=months[i]\n",
    "        \n",
    "    answer+=b-1\n",
    "    answer=answer%7\n",
    "    return days[answer]"
   ]
  },
  {
   "cell_type": "markdown",
   "id": "9b9d222c",
   "metadata": {},
   "source": [
    "# 23. 폰켓몬"
   ]
  },
  {
   "cell_type": "code",
   "execution_count": 233,
   "id": "3dc78e9c",
   "metadata": {},
   "outputs": [],
   "source": [
    "def solution23(nums):\n",
    "    answer = 0\n",
    "    a=list(set(nums))\n",
    "    l=len(nums)\n",
    "    a_l=len(a)\n",
    "    \n",
    "    if a_l<l//2:\n",
    "        answer=a_l\n",
    "    else:\n",
    "        answer=l//2\n",
    "    return answer"
   ]
  },
  {
   "cell_type": "markdown",
   "id": "d4b2a402",
   "metadata": {},
   "source": [
    "# 24. 소수 찾기"
   ]
  },
  {
   "cell_type": "code",
   "execution_count": 241,
   "id": "8b9f7bbc",
   "metadata": {},
   "outputs": [],
   "source": [
    "def solution24(n):\n",
    "    answer = 0\n",
    "    for i in range(2, n+1):\n",
    "        if check(i):\n",
    "            answer+=1\n",
    "    return answer\n",
    "\n",
    "def check(n):\n",
    "    for i in range(2,int(n**0.5)+1):\n",
    "        if n%i==0:\n",
    "            return False\n",
    "    return True"
   ]
  },
  {
   "cell_type": "code",
   "execution_count": 257,
   "id": "9eefa6ac",
   "metadata": {},
   "outputs": [],
   "source": [
    "def solution24(n):\n",
    "    p=[0,0]+[1]*(n-1)\n",
    "    for i in range(2, n+1):\n",
    "        if p[i]:\n",
    "            for j in range(2*i, n+1, i):\n",
    "                p[j]=0\n",
    "    cnt=0\n",
    "    for i in p:\n",
    "        if i==1:\n",
    "            cnt+=1\n",
    "    return cnt"
   ]
  },
  {
   "cell_type": "markdown",
   "id": "faa29ed4",
   "metadata": {},
   "source": [
    "# 25. 모의고사"
   ]
  },
  {
   "cell_type": "code",
   "execution_count": 259,
   "id": "f050997a",
   "metadata": {},
   "outputs": [],
   "source": [
    "def solution25(answers):\n",
    "    answer = []\n",
    "    \n",
    "    p1=[1,2,3,4,5]\n",
    "    p2=[2,1,2,3,2,4,2,5]\n",
    "    p3=[3,3,1,1,2,2,4,4,5,5]\n",
    "    \n",
    " \n",
    "    a1,a2,a3=0,0,0\n",
    "    for i in range(len(answers)):\n",
    "        index1=i%5\n",
    "        index2=i%8\n",
    "        index3=i%10\n",
    "        \n",
    "        if p1[index1]==answers[i]:\n",
    "            a1+=1\n",
    "            \n",
    "        if p2[index2]==answers[i]:\n",
    "            a2+=1\n",
    "            \n",
    "        if p3[index3]==answers[i]:\n",
    "            a3+=1\n",
    "        \n",
    "    \n",
    "    score=[]\n",
    "    score.append(a1)\n",
    "    score.append(a2)\n",
    "    score.append(a3)\n",
    "    \n",
    "    for i in range(len(score)):\n",
    "        if score[i] == max(score):\n",
    "            answer.append(i+1)\n",
    "    \n",
    "    return answer"
   ]
  },
  {
   "cell_type": "markdown",
   "id": "56dd3485",
   "metadata": {},
   "source": [
    "# 26. 소수 만들기"
   ]
  },
  {
   "cell_type": "code",
   "execution_count": 260,
   "id": "cad34758",
   "metadata": {},
   "outputs": [],
   "source": [
    "from itertools import combinations\n",
    "\n",
    "def prime(x):\n",
    "    if x==0 or x==1:\n",
    "        return False\n",
    "    else:\n",
    "        for i in range(2,int(x**0.5)+1):\n",
    "            if x%i==0:\n",
    "                return False\n",
    "    \n",
    "    return True\n",
    "\n",
    "def solution26(nums):\n",
    "    \n",
    "    answer=0\n",
    "    result=list(combinations(nums, 3))\n",
    "    \n",
    "    for i in result:\n",
    "        if prime(sum(i)):\n",
    "            answer+=1\n",
    "            \n",
    "    \n",
    "    return answer"
   ]
  },
  {
   "cell_type": "markdown",
   "id": "876b829f",
   "metadata": {},
   "source": [
    "# 27. 실패율"
   ]
  },
  {
   "cell_type": "code",
   "execution_count": 294,
   "id": "50f1f291",
   "metadata": {},
   "outputs": [],
   "source": [
    "import operator\n",
    "\n",
    "def solution27(N, stages):\n",
    "    answer = {}\n",
    "    s=1\n",
    "    l=len(stages)\n",
    "    \n",
    "    while 1:\n",
    "        cnt=0\n",
    "        for i in stages:\n",
    "            if i==s:\n",
    "                cnt+=1\n",
    "        print(s)\n",
    "        if l==0:\n",
    "            answer[s]=0.0\n",
    "        else:\n",
    "            f=cnt/l\n",
    "            l=l-cnt\n",
    "            answer[s]=f\n",
    "        \n",
    "        if s==N:\n",
    "            break\n",
    "        s+=1\n",
    "    answer=sorted(answer.items(), reverse=True,key=operator.itemgetter(1))\n",
    "\n",
    "    a=[]\n",
    "    for x in answer:\n",
    "        a.append(x[0])\n",
    "    \n",
    "    return a"
   ]
  },
  {
   "cell_type": "markdown",
   "id": "f15e26d6",
   "metadata": {},
   "source": [
    "# 28. [1차] 다트 문제"
   ]
  },
  {
   "cell_type": "code",
   "execution_count": 309,
   "id": "9eb3d58b",
   "metadata": {},
   "outputs": [],
   "source": [
    "def solution28(dartResult):\n",
    "    score=[]\n",
    "    n=''\n",
    "    for i in range(len(dartResult)):\n",
    "        if dartResult[i].isnumeric():\n",
    "            n+=dartResult[i]\n",
    "        elif dartResult[i]=='S':\n",
    "            n=int(n)**1\n",
    "            score.append(n)\n",
    "            n=\"\"\n",
    "        elif dartResult[i]==\"D\":\n",
    "            n=int(n)**2\n",
    "            score.append(n)\n",
    "            n=\"\"\n",
    "        elif dartResult[i]=='T':\n",
    "            n=int(n)**3\n",
    "            score.append(n)\n",
    "            n=\"\"\n",
    "        elif dartResult[i]=='*':\n",
    "            if len(score)>1:\n",
    "                score[-2]=score[-2]*2\n",
    "                score[-1]=score[-1]*2\n",
    "            else:\n",
    "                score[-1]=score[-1]*2\n",
    "        elif dartResult[i]=='#':\n",
    "            score[-1]=score[-1]*(-1)\n",
    "        print(score)\n",
    "        \n",
    "    return sum(score)"
   ]
  },
  {
   "cell_type": "code",
   "execution_count": null,
   "id": "22c1caa0",
   "metadata": {},
   "outputs": [],
   "source": []
  }
 ],
 "metadata": {
  "kernelspec": {
   "display_name": "Python 3",
   "language": "python",
   "name": "python3"
  },
  "language_info": {
   "codemirror_mode": {
    "name": "ipython",
    "version": 3
   },
   "file_extension": ".py",
   "mimetype": "text/x-python",
   "name": "python",
   "nbconvert_exporter": "python",
   "pygments_lexer": "ipython3",
   "version": "3.8.8"
  }
 },
 "nbformat": 4,
 "nbformat_minor": 5
}
