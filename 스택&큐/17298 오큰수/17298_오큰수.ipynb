{
  "nbformat": 4,
  "nbformat_minor": 0,
  "metadata": {
    "colab": {
      "name": "17298 오큰수.ipynb",
      "provenance": []
    },
    "kernelspec": {
      "name": "python3",
      "display_name": "Python 3"
    },
    "language_info": {
      "name": "python"
    }
  },
  "cells": [
    {
      "cell_type": "code",
      "execution_count": 2,
      "metadata": {
        "colab": {
          "base_uri": "https://localhost:8080/"
        },
        "id": "3Y2OG8jDyFcN",
        "outputId": "0f7258f0-81a0-4228-994a-0ce20f39b34e"
      },
      "outputs": [
        {
          "output_type": "stream",
          "name": "stdout",
          "text": [
            "4\n",
            "3 5 2 7\n",
            "5 7 7 -1\n"
          ]
        }
      ],
      "source": [
        "N=int(input())\n",
        "arr=list(map(int, input().split()))\n",
        "m=len(arr)\n",
        "\n",
        "answer=[-1]*N\n",
        "s=[]\n",
        "s.append(0)\n",
        "\n",
        "for i in range(1,m):\n",
        "    while s and arr[s[-1]]<arr[i]:\n",
        "        answer[s.pop()]=arr[i]\n",
        "    s.append(i)\n",
        "\n",
        "print(*answer)"
      ]
    }
  ]
}