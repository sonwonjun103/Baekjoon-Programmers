{
  "nbformat": 4,
  "nbformat_minor": 0,
  "metadata": {
    "colab": {
      "name": "2470 두 용액.ipynb",
      "provenance": [],
      "collapsed_sections": []
    },
    "kernelspec": {
      "name": "python3",
      "display_name": "Python 3"
    },
    "language_info": {
      "name": "python"
    }
  },
  "cells": [
    {
      "cell_type": "code",
      "execution_count": 7,
      "metadata": {
        "colab": {
          "base_uri": "https://localhost:8080/"
        },
        "id": "m7SNLdMsQ5ch",
        "outputId": "a1fe9505-67d6-43bb-aed1-b3cb337a770b"
      },
      "outputs": [
        {
          "output_type": "stream",
          "name": "stdout",
          "text": [
            "5\n",
            "-2 4 -99 -1 98\n",
            "-99 98\n"
          ]
        }
      ],
      "source": [
        "import sys\n",
        "\n",
        "N=int(input())\n",
        "liquid=list(map(int, input().split()))\n",
        "\n",
        "liquid.sort()\n",
        "start=0\n",
        "end=N-1\n",
        "two_liquid=[]\n",
        "\n",
        "answer=sys.maxsize\n",
        "while start<end:\n",
        "    first=liquid[start]\n",
        "    second=liquid[end]\n",
        "    \n",
        "    mixed=first+second\n",
        "\n",
        "    if abs(mixed) < answer:\n",
        "        answer=abs(mixed)\n",
        "        two_liquid=[first, second]\n",
        "\n",
        "    if mixed<0:\n",
        "        start+=1\n",
        "    else:\n",
        "        end-=1\n",
        "\n",
        "print(two_liquid[0], two_liquid[1])"
      ]
    }
  ]
}