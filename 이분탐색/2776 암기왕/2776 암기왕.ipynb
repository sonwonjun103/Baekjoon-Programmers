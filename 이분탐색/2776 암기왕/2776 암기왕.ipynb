{
 "cells": [
  {
   "cell_type": "code",
   "execution_count": 3,
   "id": "c8c4bcd3",
   "metadata": {},
   "outputs": [
    {
     "name": "stdout",
     "output_type": "stream",
     "text": [
      "1\n",
      "5\n",
      "4 1 5 2 3\n",
      "5\n",
      "1 3 7 9 5\n",
      "1\n",
      "1\n",
      "0\n",
      "0\n",
      "1\n"
     ]
    }
   ],
   "source": [
    "import sys\n",
    "input=sys.stdin.readline\n",
    "\n",
    "T=int(input())\n",
    "\n",
    "def binary_search(start, end,note1, num):\n",
    "    \n",
    "    while start<=end:\n",
    "        mid=(start+end)//2\n",
    "        if note1[mid]==num:\n",
    "            return 1\n",
    "        elif note1[mid]>num:\n",
    "            end=mid-1\n",
    "        elif note1[mid]<num:\n",
    "            start=mid+1\n",
    "            \n",
    "    return 0\n",
    "\n",
    "for _ in range(T):\n",
    "    N=int(input())\n",
    "    note1=list(map(int, input().split()))\n",
    "    note1.sort()\n",
    "    M=int(input())\n",
    "    note2=list(map(int, input().split()))\n",
    "  \n",
    "    for i in note2:\n",
    "        print(binary_search(0, N-1,note1, i))"
   ]
  }
 ],
 "metadata": {
  "kernelspec": {
   "display_name": "Python 3 (ipykernel)",
   "language": "python",
   "name": "python3"
  },
  "language_info": {
   "codemirror_mode": {
    "name": "ipython",
    "version": 3
   },
   "file_extension": ".py",
   "mimetype": "text/x-python",
   "name": "python",
   "nbconvert_exporter": "python",
   "pygments_lexer": "ipython3",
   "version": "3.9.7"
  }
 },
 "nbformat": 4,
 "nbformat_minor": 5
}
