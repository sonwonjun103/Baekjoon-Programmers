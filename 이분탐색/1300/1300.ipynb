{
 "cells": [
  {
   "cell_type": "code",
   "execution_count": 2,
   "id": "f08c460e",
   "metadata": {},
   "outputs": [
    {
     "name": "stdout",
     "output_type": "stream",
     "text": [
      "3\n",
      "7\n",
      "6\n"
     ]
    }
   ],
   "source": [
    "N=int(input())        \n",
    "K=int(input())\n",
    "\n",
    "start=1\n",
    "end=K\n",
    "\n",
    "while start<=end:\n",
    "    mid=(start+end)//2\n",
    "    \n",
    "    temp=0\n",
    "    for i in range(1,N+1):\n",
    "        temp+=min(mid//i, N)\n",
    "        \n",
    "    if temp>=K:\n",
    "        answer=mid\n",
    "        end=mid-1\n",
    "    else:\n",
    "        start=mid+1\n",
    "print(answer)"
   ]
  }
 ],
 "metadata": {
  "kernelspec": {
   "display_name": "Python 3 (ipykernel)",
   "language": "python",
   "name": "python3"
  },
  "language_info": {
   "codemirror_mode": {
    "name": "ipython",
    "version": 3
   },
   "file_extension": ".py",
   "mimetype": "text/x-python",
   "name": "python",
   "nbconvert_exporter": "python",
   "pygments_lexer": "ipython3",
   "version": "3.9.7"
  }
 },
 "nbformat": 4,
 "nbformat_minor": 5
}
