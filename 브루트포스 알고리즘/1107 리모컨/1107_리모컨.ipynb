{
  "nbformat": 4,
  "nbformat_minor": 0,
  "metadata": {
    "colab": {
      "name": "1107 리모컨.ipynb",
      "provenance": []
    },
    "kernelspec": {
      "name": "python3",
      "display_name": "Python 3"
    },
    "language_info": {
      "name": "python"
    }
  },
  "cells": [
    {
      "cell_type": "code",
      "execution_count": 5,
      "metadata": {
        "colab": {
          "base_uri": "https://localhost:8080/"
        },
        "id": "1odSZdBE10KW",
        "outputId": "61411ccc-2a1d-49a4-a1db-fa979e2aee60"
      },
      "outputs": [
        {
          "output_type": "stream",
          "name": "stdout",
          "text": [
            "5457\n",
            "3\n",
            "6 7 8\n",
            "6\n"
          ]
        }
      ],
      "source": [
        "def check(want, num):\n",
        "    if want==100:\n",
        "        return 0\n",
        "    \n",
        "    #직접 채널을 돌리는 경우\n",
        "    job=abs(100-want)\n",
        "\n",
        "    #숫자를 입력하여 채널을 입력하는 경우\n",
        "    for i in range(1000001):\n",
        "        for j in str(i):\n",
        "            #고장난 숫자가 있다면 pass\n",
        "            if int(j) in num:\n",
        "                break\n",
        "            #없다면\n",
        "        else:\n",
        "            #숫자를 누른 횟수 + 원하는 채널과의 차이6\n",
        "            job=min(job, len(str(i))+abs(i-want))\n",
        "\n",
        "    return job\n",
        "\n",
        "N=int(input())\n",
        "M=int(input())\n",
        "n=list(map(int, input().split()))\n",
        "\n",
        "print(check(N, n))"
      ]
    },
    {
      "cell_type": "code",
      "source": [
        "a='4'\n",
        "b=[4,5,6,7]\n",
        "print(a in b)"
      ],
      "metadata": {
        "colab": {
          "base_uri": "https://localhost:8080/"
        },
        "id": "aUaFxLOV8Afd",
        "outputId": "591bd935-1648-491d-93fd-33b662285355"
      },
      "execution_count": 6,
      "outputs": [
        {
          "output_type": "stream",
          "name": "stdout",
          "text": [
            "False\n"
          ]
        }
      ]
    }
  ]
}