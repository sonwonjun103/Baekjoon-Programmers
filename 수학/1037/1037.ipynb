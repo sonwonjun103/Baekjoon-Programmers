{
 "cells": [
  {
   "cell_type": "code",
   "execution_count": 4,
   "id": "302647aa",
   "metadata": {},
   "outputs": [
    {
     "name": "stdout",
     "output_type": "stream",
     "text": [
      "14\n",
      "14 26456 2 28 13228 3307 7 23149 8 6614 46298 56 4 92596\n",
      "185192\n"
     ]
    }
   ],
   "source": [
    "R=int(input())\n",
    "num=list(map(int, input().split()))\n",
    "print(max(num)*min(num))"
   ]
  }
 ],
 "metadata": {
  "kernelspec": {
   "display_name": "Python 3 (ipykernel)",
   "language": "python",
   "name": "python3"
  },
  "language_info": {
   "codemirror_mode": {
    "name": "ipython",
    "version": 3
   },
   "file_extension": ".py",
   "mimetype": "text/x-python",
   "name": "python",
   "nbconvert_exporter": "python",
   "pygments_lexer": "ipython3",
   "version": "3.9.7"
  }
 },
 "nbformat": 4,
 "nbformat_minor": 5
}
