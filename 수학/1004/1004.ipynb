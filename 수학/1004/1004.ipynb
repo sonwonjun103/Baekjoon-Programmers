{
 "cells": [
  {
   "cell_type": "code",
   "execution_count": 2,
   "id": "ec0d2137",
   "metadata": {},
   "outputs": [
    {
     "name": "stdout",
     "output_type": "stream",
     "text": [
      "2\n",
      "-5 1 12 1\n",
      "7\n",
      "1 1 8\n",
      "-3 -1 1\n",
      "2 2 2\n",
      "5 5 1\n",
      "-4 5 1\n",
      "12 1 1\n",
      "12 1 2\n",
      "3\n",
      "-5 1 5 1\n",
      "1\n",
      "0 0 2\n",
      "0\n"
     ]
    }
   ],
   "source": [
    "T=int(input())\n",
    "for _ in range(T):\n",
    "    x1,y1,x2,y2=map(int, input().split())\n",
    "    n=int(input())\n",
    "    cnt=0\n",
    "    for _ in range(n):\n",
    "        cx,cy,r=map(int, input().split())\n",
    "        d1=((x1-cx)**2+(y1-cy)**2)**0.5\n",
    "        d2=((x2-cx)**2+(y2-cy)**2)**0.5\n",
    "        if (d1-r)*(d2-r)<0:\n",
    "            cnt+=1\n",
    "    print(cnt)"
   ]
  }
 ],
 "metadata": {
  "kernelspec": {
   "display_name": "Python 3 (ipykernel)",
   "language": "python",
   "name": "python3"
  },
  "language_info": {
   "codemirror_mode": {
    "name": "ipython",
    "version": 3
   },
   "file_extension": ".py",
   "mimetype": "text/x-python",
   "name": "python",
   "nbconvert_exporter": "python",
   "pygments_lexer": "ipython3",
   "version": "3.9.7"
  }
 },
 "nbformat": 4,
 "nbformat_minor": 5
}
