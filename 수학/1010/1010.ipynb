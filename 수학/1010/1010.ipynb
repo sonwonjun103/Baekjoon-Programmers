{
 "cells": [
  {
   "cell_type": "code",
   "execution_count": 1,
   "id": "57ecb354",
   "metadata": {},
   "outputs": [
    {
     "name": "stdout",
     "output_type": "stream",
     "text": [
      "3\n",
      "2 2\n",
      "1\n",
      "1 5\n",
      "5\n",
      "13 29\n",
      "67863915\n"
     ]
    }
   ],
   "source": [
    "def cal(r,n):\n",
    "    if n==r:\n",
    "        return 1\n",
    "    elif n<r or n==0:\n",
    "        return\n",
    "    else:\n",
    "        a=fac(n)\n",
    "        b=fac(r)*fac(n-r)\n",
    "        return int(a/b)\n",
    "    \n",
    "def fac(n):\n",
    "    fibo=1\n",
    "    for i in range(1,n+1):\n",
    "        fibo*=i\n",
    "    return fibo\n",
    "\n",
    "T=int(input())\n",
    "for _ in range(T):\n",
    "    west,east=map(int, input().split())\n",
    "    print(cal(west,east))"
   ]
  }
 ],
 "metadata": {
  "kernelspec": {
   "display_name": "Python 3 (ipykernel)",
   "language": "python",
   "name": "python3"
  },
  "language_info": {
   "codemirror_mode": {
    "name": "ipython",
    "version": 3
   },
   "file_extension": ".py",
   "mimetype": "text/x-python",
   "name": "python",
   "nbconvert_exporter": "python",
   "pygments_lexer": "ipython3",
   "version": "3.9.7"
  }
 },
 "nbformat": 4,
 "nbformat_minor": 5
}
