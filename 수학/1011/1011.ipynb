{
 "cells": [
  {
   "cell_type": "code",
   "execution_count": 1,
   "id": "7120a62e",
   "metadata": {},
   "outputs": [
    {
     "name": "stdout",
     "output_type": "stream",
     "text": [
      "3\n",
      "0 3\n",
      "3\n",
      "1 5\n",
      "3\n",
      "45 50\n",
      "4\n"
     ]
    }
   ],
   "source": [
    "def check(x,y):\n",
    "    d=y-x\n",
    "    n=1\n",
    "    while 1:\n",
    "        if n**2 <=d<(n+1)**2:\n",
    "            break\n",
    "        n+=1\n",
    "        \n",
    "    if n**2==d:\n",
    "        print(n*2-1)\n",
    "    elif n**2 < d and d<=n**2+n:\n",
    "        print(n*2)\n",
    "    else:\n",
    "        print(n*2+1)\n",
    "        \n",
    "T=int(input())\n",
    "for _ in range(T):\n",
    "    x,y=map(int, input().split())\n",
    "    check(x,y)"
   ]
  }
 ],
 "metadata": {
  "kernelspec": {
   "display_name": "Python 3 (ipykernel)",
   "language": "python",
   "name": "python3"
  },
  "language_info": {
   "codemirror_mode": {
    "name": "ipython",
    "version": 3
   },
   "file_extension": ".py",
   "mimetype": "text/x-python",
   "name": "python",
   "nbconvert_exporter": "python",
   "pygments_lexer": "ipython3",
   "version": "3.9.7"
  }
 },
 "nbformat": 4,
 "nbformat_minor": 5
}
