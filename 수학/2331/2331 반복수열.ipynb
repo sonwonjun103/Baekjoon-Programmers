{
 "cells": [
  {
   "cell_type": "code",
   "execution_count": 20,
   "id": "96334dfd",
   "metadata": {},
   "outputs": [],
   "source": [
    "def make_num(x, p):\n",
    "    x=str(x)\n",
    "    s=0\n",
    "    for i in range(len(x)):\n",
    "        s+=int(x[i])**p\n",
    "        \n",
    "    return s\n",
    "\n",
    "def solution(A,P):\n",
    "    num=[]\n",
    "    num.append(A)\n",
    "    \n",
    "    while 1:\n",
    "        n=make_num(A,P)\n",
    "        if n in num:\n",
    "            break\n",
    "        num.append(n)\n",
    "        \n",
    "        A=n\n",
    "    \n",
    "    f=0\n",
    "    for i in range(len(num)):\n",
    "        if n==num[i]:\n",
    "            f=i\n",
    "            break\n",
    "            \n",
    "    return len(num[:f])\n",
    "\n",
    "A,P=map(int, input().split())\n",
    "print(solution(A,P))"
   ]
  },
  {
   "cell_type": "code",
   "execution_count": 21,
   "id": "232af323",
   "metadata": {},
   "outputs": [
    {
     "name": "stdout",
     "output_type": "stream",
     "text": [
      "57 2\n"
     ]
    },
    {
     "data": {
      "text/plain": [
       "4"
      ]
     },
     "execution_count": 21,
     "metadata": {},
     "output_type": "execute_result"
    }
   ],
   "source": [
    "A,P=map(int, input().split())\n",
    "print(solution(A,P))"
   ]
  },
  {
   "cell_type": "code",
   "execution_count": null,
   "id": "8d8bfa10",
   "metadata": {},
   "outputs": [],
   "source": []
  }
 ],
 "metadata": {
  "kernelspec": {
   "display_name": "Python 3 (ipykernel)",
   "language": "python",
   "name": "python3"
  },
  "language_info": {
   "codemirror_mode": {
    "name": "ipython",
    "version": 3
   },
   "file_extension": ".py",
   "mimetype": "text/x-python",
   "name": "python",
   "nbconvert_exporter": "python",
   "pygments_lexer": "ipython3",
   "version": "3.9.7"
  }
 },
 "nbformat": 4,
 "nbformat_minor": 5
}
