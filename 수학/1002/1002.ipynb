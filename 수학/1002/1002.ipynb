{
 "cells": [
  {
   "cell_type": "code",
   "execution_count": 3,
   "id": "17b84a4b",
   "metadata": {},
   "outputs": [
    {
     "name": "stdout",
     "output_type": "stream",
     "text": [
      "3\n",
      "0 0 13 40 0 37\n",
      "2\n",
      "0 0 3 0 7 4\n",
      "1\n",
      "1 1 1 1 1 5\n",
      "0\n"
     ]
    }
   ],
   "source": [
    "def check(x1,y1,r1,x2,y2,r2):\n",
    "    distance=((x1-x2)**2+(y1-y2)**2)**0.5\n",
    "    origin_radius=r1+r2\n",
    "    minus_radius=abs(r1-r2)\n",
    "    \n",
    "    #중심이 같은 경우\n",
    "    if distance==0:\n",
    "        if r1==r2:\n",
    "            return -1\n",
    "        else:\n",
    "            return 0\n",
    "    else:\n",
    "        #중심과의 거리와 반지름이 길이의 합이 같은 경우\n",
    "        if origin_radius==distance or minus_radius==distance:\n",
    "            return 1\n",
    "        #다른 경우\n",
    "        else:\n",
    "            if origin_radius > distance and minus_radius < distance:\n",
    "                return 2\n",
    "            else:\n",
    "                return 0\n",
    "\n",
    "T=int(input())\n",
    "for _ in range(T):\n",
    "    x1,y1,r1,x2,y2,r2=map(int, input().split())\n",
    "    print(check(x1,y1,r1,x2,y2,r2))"
   ]
  }
 ],
 "metadata": {
  "kernelspec": {
   "display_name": "Python 3 (ipykernel)",
   "language": "python",
   "name": "python3"
  },
  "language_info": {
   "codemirror_mode": {
    "name": "ipython",
    "version": 3
   },
   "file_extension": ".py",
   "mimetype": "text/x-python",
   "name": "python",
   "nbconvert_exporter": "python",
   "pygments_lexer": "ipython3",
   "version": "3.9.7"
  }
 },
 "nbformat": 4,
 "nbformat_minor": 5
}
