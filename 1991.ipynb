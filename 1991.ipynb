{
  "nbformat": 4,
  "nbformat_minor": 0,
  "metadata": {
    "colab": {
      "name": "1991.ipynb",
      "provenance": [],
      "collapsed_sections": [],
      "authorship_tag": "ABX9TyOl20TDOddXjY6qzWkSwryK",
      "include_colab_link": true
    },
    "kernelspec": {
      "name": "python3",
      "display_name": "Python 3"
    },
    "language_info": {
      "name": "python"
    }
  },
  "cells": [
    {
      "cell_type": "markdown",
      "metadata": {
        "id": "view-in-github",
        "colab_type": "text"
      },
      "source": [
        "<a href=\"https://colab.research.google.com/github/sonwonjun103/Baekjoon/blob/main/1991.ipynb\" target=\"_parent\"><img src=\"https://colab.research.google.com/assets/colab-badge.svg\" alt=\"Open In Colab\"/></a>"
      ]
    },
    {
      "cell_type": "code",
      "execution_count": null,
      "metadata": {
        "id": "qp_SaE1pBERK"
      },
      "outputs": [],
      "source": [
        "#1991번(트리 순회)\n",
        "def preorder(tree, root):\n",
        "    if root == \".\":\n",
        "        return\n",
        "    else:\n",
        "        print(root, end=\"\")\n",
        "        preorder(tree,tree[root][0])\n",
        "        preorder(tree,tree[root][1])\n",
        "\n",
        "def inorder(tree, root):\n",
        "    if root==\".\":\n",
        "        return\n",
        "    else:\n",
        "        inorder(tree, tree[root][0])\n",
        "        print(root, end=\"\")\n",
        "        inorder(tree, tree[root][1])\n",
        "\n",
        "def postorder(tree, root):\n",
        "    if root==\".\":\n",
        "        return\n",
        "    else:\n",
        "        postorder(tree, tree[root][0])\n",
        "        postorder(tree, tree[root][1])\n",
        "        print(root, end=\"\")\n",
        "\n",
        "if __name__ == '__main__':\n",
        "    tree = {}\n",
        "    N = int(input())\n",
        "    for i in range(N):\n",
        "        node1, node2, node3 = map(str, input().split())\n",
        "        tree[node1] = (node2, node3)\n",
        "    preorder(tree, \"A\")\n",
        "    print()\n",
        "    inorder(tree,\"A\")\n",
        "    print()\n",
        "    postorder(tree,\"A\")"
      ]
    }
  ]
}