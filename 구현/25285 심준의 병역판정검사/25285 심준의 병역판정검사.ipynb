{
 "cells": [
  {
   "cell_type": "code",
   "execution_count": 4,
   "id": "83f406da",
   "metadata": {},
   "outputs": [
    {
     "name": "stdout",
     "output_type": "stream",
     "text": [
      "6\n",
      "175 65\n",
      "21.224489795918366\n",
      "1\n",
      "175 60\n",
      "19.591836734693878\n",
      "2\n",
      "175 49\n",
      "16.0\n",
      "3\n",
      "175 48\n",
      "15.673469387755102\n",
      "4\n",
      "145 50\n",
      "23.781212841854934\n",
      "5\n",
      "140 45\n",
      "22.959183673469383\n",
      "6\n"
     ]
    }
   ],
   "source": [
    "N=int(input())\n",
    "\n",
    "def solution(height, weight):\n",
    "    bmi=weight/((height*0.01)**2)\n",
    "    \n",
    "    if height<140.1:\n",
    "        return 6\n",
    "    elif 140.1<=height and height<146:\n",
    "        return 5\n",
    "    elif 146<=height and height<159:\n",
    "        return 4\n",
    "    elif 159<=height and height<161:\n",
    "        if 16<=bmi and bmi<35:\n",
    "            return 3\n",
    "        elif bmi<16 or bmi>=35:\n",
    "            return 4\n",
    "    elif 161<=height and height<204:\n",
    "        if bmi>=20 and bmi<25:\n",
    "            return 1\n",
    "        elif (18.5<=bmi and bmi<20) or (25<=bmi and bmi<30):\n",
    "            return 2\n",
    "        elif (16<=bmi and bmi<18.5) or (30<=bmi and bmi<35):\n",
    "            return 3\n",
    "        elif bmi<16 or bmi>=35:\n",
    "            return 4\n",
    "    elif height>=204:\n",
    "        return 4\n",
    "        \n",
    "\n",
    "for _ in range(N):\n",
    "    height, weight=map(int, input().split())\n",
    "    print(solution(height, weight))"
   ]
  }
 ],
 "metadata": {
  "kernelspec": {
   "display_name": "Python 3 (ipykernel)",
   "language": "python",
   "name": "python3"
  },
  "language_info": {
   "codemirror_mode": {
    "name": "ipython",
    "version": 3
   },
   "file_extension": ".py",
   "mimetype": "text/x-python",
   "name": "python",
   "nbconvert_exporter": "python",
   "pygments_lexer": "ipython3",
   "version": "3.9.7"
  }
 },
 "nbformat": 4,
 "nbformat_minor": 5
}
