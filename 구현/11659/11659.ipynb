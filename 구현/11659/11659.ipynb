{
 "cells": [
  {
   "cell_type": "code",
   "execution_count": 11,
   "id": "f3ff4c50",
   "metadata": {},
   "outputs": [
    {
     "name": "stdout",
     "output_type": "stream",
     "text": [
      "5 3\n",
      "5 4 3 2 1\n",
      "1 3\n",
      "12\n",
      "[0, 5, 9, 12, 14, 15]\n",
      "2 4\n",
      "9\n",
      "[0, 5, 9, 12, 14, 15]\n",
      "5 5\n",
      "1\n",
      "[0, 5, 9, 12, 14, 15]\n"
     ]
    }
   ],
   "source": [
    "import sys\n",
    "input=sys.stdin.readline\n",
    "\n",
    "N,M=map(int, input().split())\n",
    "\n",
    "num=list(map(int, input().split()))\n",
    "result=[0]\n",
    "\n",
    "temp=0\n",
    "for i in num:\n",
    "    temp+=i\n",
    "    result.append(temp)\n",
    "\n",
    "for _ in range(M):\n",
    "    i,j=map(int, input().split())\n",
    "\n",
    "    print(result[j]-result[i-1])"
   ]
  }
 ],
 "metadata": {
  "kernelspec": {
   "display_name": "Python 3 (ipykernel)",
   "language": "python",
   "name": "python3"
  },
  "language_info": {
   "codemirror_mode": {
    "name": "ipython",
    "version": 3
   },
   "file_extension": ".py",
   "mimetype": "text/x-python",
   "name": "python",
   "nbconvert_exporter": "python",
   "pygments_lexer": "ipython3",
   "version": "3.9.7"
  }
 },
 "nbformat": 4,
 "nbformat_minor": 5
}
