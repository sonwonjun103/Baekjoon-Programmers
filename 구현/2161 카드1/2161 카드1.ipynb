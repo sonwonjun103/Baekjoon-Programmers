{
 "cells": [
  {
   "cell_type": "code",
   "execution_count": 4,
   "id": "d9ea2ecf",
   "metadata": {},
   "outputs": [
    {
     "name": "stdout",
     "output_type": "stream",
     "text": [
      "7\n",
      "1 3 5 7 4 2 6\n"
     ]
    }
   ],
   "source": [
    "from collections import deque\n",
    "\n",
    "N=int(input())\n",
    "queue=deque([i for i in range(1,N+1)])\n",
    "\n",
    "while 1:\n",
    "    if len(queue)==1:\n",
    "        print(queue[0])\n",
    "        break\n",
    "    first=queue.popleft()\n",
    "    print(first, end=\" \")\n",
    "    second=queue.popleft()\n",
    "    queue.append(second)"
   ]
  }
 ],
 "metadata": {
  "kernelspec": {
   "display_name": "Python 3 (ipykernel)",
   "language": "python",
   "name": "python3"
  },
  "language_info": {
   "codemirror_mode": {
    "name": "ipython",
    "version": 3
   },
   "file_extension": ".py",
   "mimetype": "text/x-python",
   "name": "python",
   "nbconvert_exporter": "python",
   "pygments_lexer": "ipython3",
   "version": "3.9.7"
  }
 },
 "nbformat": 4,
 "nbformat_minor": 5
}
