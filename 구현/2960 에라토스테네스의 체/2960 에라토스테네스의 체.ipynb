{
 "cells": [
  {
   "cell_type": "code",
   "execution_count": 21,
   "id": "332be7a1",
   "metadata": {},
   "outputs": [
    {
     "name": "stdout",
     "output_type": "stream",
     "text": [
      "10 7\n",
      "9\n"
     ]
    }
   ],
   "source": [
    "N,K=map(int, input().split())\n",
    "\n",
    "def prime(N,K):\n",
    "    cnt=0\n",
    "    num=[True]*(N+1)\n",
    "    \n",
    "    h=N**0.5\n",
    "    for i in range(2,N+1):\n",
    "        if num[i]==1:\n",
    "            for j in range(i, N+1, i):\n",
    "                if num[j]==1:\n",
    "                    num[j]=False\n",
    "                    cnt+=1\n",
    "                if cnt==K:\n",
    "                    return j\n",
    "\n",
    "print(prime(N,K))"
   ]
  }
 ],
 "metadata": {
  "kernelspec": {
   "display_name": "Python 3 (ipykernel)",
   "language": "python",
   "name": "python3"
  },
  "language_info": {
   "codemirror_mode": {
    "name": "ipython",
    "version": 3
   },
   "file_extension": ".py",
   "mimetype": "text/x-python",
   "name": "python",
   "nbconvert_exporter": "python",
   "pygments_lexer": "ipython3",
   "version": "3.9.7"
  }
 },
 "nbformat": 4,
 "nbformat_minor": 5
}
