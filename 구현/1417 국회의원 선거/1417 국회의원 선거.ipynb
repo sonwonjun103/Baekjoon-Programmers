{
 "cells": [
  {
   "cell_type": "code",
   "execution_count": 16,
   "id": "9fd6e5d2",
   "metadata": {},
   "outputs": [
    {
     "name": "stdout",
     "output_type": "stream",
     "text": [
      "5\n",
      "5\n",
      "10\n",
      "7\n",
      "3\n",
      "8\n",
      "4\n"
     ]
    }
   ],
   "source": [
    "N=int(input())\n",
    "candidate=[]\n",
    "for _ in range(N):\n",
    "    candidate.append(int(input()))\n",
    "\n",
    "dasom=candidate[0]\n",
    "remain=candidate[1:]\n",
    "\n",
    "cnt=0\n",
    "\n",
    "if len(candidate)==1:\n",
    "    print(cnt)\n",
    "else:\n",
    "    #내림차순 정렬한뒤 첫번째 요소가 나머지 요소들 중 최대값보다 크거나 같을시 종료\n",
    "    while 1:\n",
    "        remain.sort(reverse=True)\n",
    "        if dasom>remain[0]:\n",
    "            break\n",
    "        remain[0]-=1\n",
    "        dasom+=1\n",
    "        cnt+=1\n",
    "    \n",
    "    print(cnt)"
   ]
  }
 ],
 "metadata": {
  "kernelspec": {
   "display_name": "Python 3 (ipykernel)",
   "language": "python",
   "name": "python3"
  },
  "language_info": {
   "codemirror_mode": {
    "name": "ipython",
    "version": 3
   },
   "file_extension": ".py",
   "mimetype": "text/x-python",
   "name": "python",
   "nbconvert_exporter": "python",
   "pygments_lexer": "ipython3",
   "version": "3.9.7"
  }
 },
 "nbformat": 4,
 "nbformat_minor": 5
}
