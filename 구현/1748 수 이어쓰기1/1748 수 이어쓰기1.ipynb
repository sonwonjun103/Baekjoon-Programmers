{
 "cells": [
  {
   "cell_type": "code",
   "execution_count": 9,
   "id": "9a007ce4",
   "metadata": {},
   "outputs": [
    {
     "name": "stdout",
     "output_type": "stream",
     "text": [
      "15\n",
      "21\n"
     ]
    }
   ],
   "source": [
    "N=input()\n",
    "\n",
    "cnt=0\n",
    "l=0\n",
    "while 1:\n",
    "    if l==len(N)-1:\n",
    "        break\n",
    "    #N-1길이까지 더하기\n",
    "    cnt+=9*(10**(l))*(l+1)\n",
    "    l+=1\n",
    "    \n",
    "#N길이 더하기\n",
    "cnt+=(int(N)-(10**l)+1)*(l+1)\n",
    "print(cnt)"
   ]
  }
 ],
 "metadata": {
  "kernelspec": {
   "display_name": "Python 3 (ipykernel)",
   "language": "python",
   "name": "python3"
  },
  "language_info": {
   "codemirror_mode": {
    "name": "ipython",
    "version": 3
   },
   "file_extension": ".py",
   "mimetype": "text/x-python",
   "name": "python",
   "nbconvert_exporter": "python",
   "pygments_lexer": "ipython3",
   "version": "3.9.7"
  }
 },
 "nbformat": 4,
 "nbformat_minor": 5
}
