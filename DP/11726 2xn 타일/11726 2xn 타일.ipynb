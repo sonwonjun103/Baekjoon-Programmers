{
 "cells": [
  {
   "cell_type": "code",
   "execution_count": 8,
   "id": "d168a511",
   "metadata": {},
   "outputs": [
    {
     "name": "stdout",
     "output_type": "stream",
     "text": [
      "9\n",
      "55\n"
     ]
    }
   ],
   "source": [
    "N=int(input())\n",
    "\n",
    "dp=[]\n",
    "dp.append(1)\n",
    "dp.append(2)\n",
    "\n",
    "for i in range(2, N+1):\n",
    "    dp.append(dp[i-1]+dp[i-2])\n",
    "    \n",
    "    \n",
    "print(dp[N-1]%10007)"
   ]
  },
  {
   "cell_type": "code",
   "execution_count": null,
   "id": "baf2a9ab",
   "metadata": {},
   "outputs": [],
   "source": []
  }
 ],
 "metadata": {
  "kernelspec": {
   "display_name": "Python 3 (ipykernel)",
   "language": "python",
   "name": "python3"
  },
  "language_info": {
   "codemirror_mode": {
    "name": "ipython",
    "version": 3
   },
   "file_extension": ".py",
   "mimetype": "text/x-python",
   "name": "python",
   "nbconvert_exporter": "python",
   "pygments_lexer": "ipython3",
   "version": "3.9.7"
  }
 },
 "nbformat": 4,
 "nbformat_minor": 5
}
