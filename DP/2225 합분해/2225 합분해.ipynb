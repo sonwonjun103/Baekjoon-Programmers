{
 "cells": [
  {
   "cell_type": "code",
   "execution_count": 66,
   "id": "75c7a600",
   "metadata": {},
   "outputs": [
    {
     "name": "stdout",
     "output_type": "stream",
     "text": [
      "6 4\n",
      "84\n"
     ]
    }
   ],
   "source": [
    "N,K=map(int, input().split())\n",
    "\n",
    "dp=[[0]*201 for i in range(0,201)]\n",
    "\n",
    "for i in range(201):\n",
    "    dp[1][i]=1\n",
    "    dp[2][i]=i+1\n",
    "    \n",
    "for i in range(2,201):\n",
    "    dp[i][1]=i\n",
    "    for j in range(2,201):\n",
    "        dp[i][j]=(dp[i-1][j]+dp[i][j-1])%1000000000\n",
    "        \n",
    "print(dp[K][N])"
   ]
  },
  {
   "cell_type": "code",
   "execution_count": null,
   "id": "a6e609e7",
   "metadata": {},
   "outputs": [],
   "source": []
  }
 ],
 "metadata": {
  "kernelspec": {
   "display_name": "Python 3 (ipykernel)",
   "language": "python",
   "name": "python3"
  },
  "language_info": {
   "codemirror_mode": {
    "name": "ipython",
    "version": 3
   },
   "file_extension": ".py",
   "mimetype": "text/x-python",
   "name": "python",
   "nbconvert_exporter": "python",
   "pygments_lexer": "ipython3",
   "version": "3.9.7"
  }
 },
 "nbformat": 4,
 "nbformat_minor": 5
}
