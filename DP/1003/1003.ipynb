{
 "cells": [
  {
   "cell_type": "code",
   "execution_count": 1,
   "id": "9c50fd05",
   "metadata": {},
   "outputs": [
    {
     "name": "stdout",
     "output_type": "stream",
     "text": [
      "3\n",
      "0\n",
      "1 0\n",
      "1\n",
      "0 1\n",
      "3\n",
      "1 2\n"
     ]
    }
   ],
   "source": [
    "count0=[1,0,1]\n",
    "count1=[0,1,1]\n",
    "\n",
    "def fibonacci(n):\n",
    "    if len(count0)<=n:\n",
    "        for i in range(len(count0)+1):\n",
    "            count0.append(count0[i-1]+count0[i-2])\n",
    "            count1.append(count1[i-1]+count1[i-2])\n",
    "            \n",
    "    print(count0[n], count1[n])\n",
    "    \n",
    "T=int(input())\n",
    "for _ in range(T):\n",
    "    n=int(input())\n",
    "    fibonacci(n)"
   ]
  }
 ],
 "metadata": {
  "kernelspec": {
   "display_name": "Python 3 (ipykernel)",
   "language": "python",
   "name": "python3"
  },
  "language_info": {
   "codemirror_mode": {
    "name": "ipython",
    "version": 3
   },
   "file_extension": ".py",
   "mimetype": "text/x-python",
   "name": "python",
   "nbconvert_exporter": "python",
   "pygments_lexer": "ipython3",
   "version": "3.9.7"
  }
 },
 "nbformat": 4,
 "nbformat_minor": 5
}
