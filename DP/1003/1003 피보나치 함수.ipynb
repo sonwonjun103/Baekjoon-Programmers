{
 "cells": [
  {
   "cell_type": "code",
   "execution_count": 9,
   "id": "7d12f65b",
   "metadata": {},
   "outputs": [
    {
     "name": "stdout",
     "output_type": "stream",
     "text": [
      "1\n",
      "7\n",
      "8 13\n"
     ]
    }
   ],
   "source": [
    "count0=[1,0,1]\n",
    "count1=[0,1,1]\n",
    "\n",
    "def fibonacci(n):\n",
    "    if len(count0)<=n:\n",
    "        for i in range(len(count0),n+1):\n",
    "            count0.append(count0[i-1]+count0[i-2])\n",
    "            count1.append(count1[i-1]+count1[i-2])\n",
    "            \n",
    "    print(count0[n], count1[n])\n",
    "            \n",
    "\n",
    "T=int(input())\n",
    "for _ in range(T):\n",
    "    n=int(input())\n",
    "    fibonacci(n)"
   ]
  },
  {
   "cell_type": "code",
   "execution_count": null,
   "id": "8e9eed26",
   "metadata": {},
   "outputs": [],
   "source": []
  }
 ],
 "metadata": {
  "kernelspec": {
   "display_name": "Python 3",
   "language": "python",
   "name": "python3"
  },
  "language_info": {
   "codemirror_mode": {
    "name": "ipython",
    "version": 3
   },
   "file_extension": ".py",
   "mimetype": "text/x-python",
   "name": "python",
   "nbconvert_exporter": "python",
   "pygments_lexer": "ipython3",
   "version": "3.8.8"
  }
 },
 "nbformat": 4,
 "nbformat_minor": 5
}
