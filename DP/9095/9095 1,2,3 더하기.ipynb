{
 "cells": [
  {
   "cell_type": "code",
   "execution_count": 2,
   "id": "602b9293",
   "metadata": {},
   "outputs": [
    {
     "name": "stdout",
     "output_type": "stream",
     "text": [
      "3\n",
      "4\n",
      "7\n",
      "7\n",
      "44\n",
      "10\n",
      "274\n"
     ]
    }
   ],
   "source": [
    "T=int(input())\n",
    "\n",
    "def solution(a):\n",
    "    dp=[]\n",
    "    dp.append(1) #a==1\n",
    "    dp.append(2) #a==2\n",
    "    dp.append(4) #a==3\n",
    "    \n",
    "    if a==1:\n",
    "        return dp[0]\n",
    "    elif a==2:\n",
    "        return dp[1]\n",
    "    elif a==3:\n",
    "        return dp[2]\n",
    "    else:\n",
    "        for i in range(3,a):\n",
    "            dp.append(sum(dp[i-3:i]))\n",
    "            \n",
    "    return dp[a-1]\n",
    "\n",
    "for _ in range(T):\n",
    "    n=int(input())\n",
    "    print(solution(n))"
   ]
  }
 ],
 "metadata": {
  "kernelspec": {
   "display_name": "Python 3 (ipykernel)",
   "language": "python",
   "name": "python3"
  },
  "language_info": {
   "codemirror_mode": {
    "name": "ipython",
    "version": 3
   },
   "file_extension": ".py",
   "mimetype": "text/x-python",
   "name": "python",
   "nbconvert_exporter": "python",
   "pygments_lexer": "ipython3",
   "version": "3.9.7"
  }
 },
 "nbformat": 4,
 "nbformat_minor": 5
}
