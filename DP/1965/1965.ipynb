{
 "cells": [
  {
   "cell_type": "code",
   "execution_count": 3,
   "id": "fb0b00fb",
   "metadata": {},
   "outputs": [
    {
     "name": "stdout",
     "output_type": "stream",
     "text": [
      "8\n",
      "1 6 2 5 7 3 5 6\n",
      "5\n"
     ]
    }
   ],
   "source": [
    "N=int(input())\n",
    "a=list(map(int, input().split()))\n",
    "dp=[1]*(N)\n",
    "\n",
    "for i in range(1,N):\n",
    "    for j in range(i):\n",
    "        if a[i] > a[j]:\n",
    "            dp[i]=max(dp[i], dp[j]+1)\n",
    " \n",
    "print(max(dp))"
   ]
  }
 ],
 "metadata": {
  "kernelspec": {
   "display_name": "Python 3 (ipykernel)",
   "language": "python",
   "name": "python3"
  },
  "language_info": {
   "codemirror_mode": {
    "name": "ipython",
    "version": 3
   },
   "file_extension": ".py",
   "mimetype": "text/x-python",
   "name": "python",
   "nbconvert_exporter": "python",
   "pygments_lexer": "ipython3",
   "version": "3.9.7"
  }
 },
 "nbformat": 4,
 "nbformat_minor": 5
}
