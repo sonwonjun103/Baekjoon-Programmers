{
  "nbformat": 4,
  "nbformat_minor": 0,
  "metadata": {
    "colab": {
      "name": "1437 수분해.ipynb",
      "provenance": []
    },
    "kernelspec": {
      "name": "python3",
      "display_name": "Python 3"
    },
    "language_info": {
      "name": "python"
    }
  },
  "cells": [
    {
      "cell_type": "code",
      "execution_count": 10,
      "metadata": {
        "colab": {
          "base_uri": "https://localhost:8080/"
        },
        "id": "78jbcAEdR1CP",
        "outputId": "84a63afe-8afa-4a96-fd3b-6131e554242b"
      },
      "outputs": [
        {
          "output_type": "stream",
          "name": "stdout",
          "text": [
            "9931\n",
            "4664\n"
          ]
        }
      ],
      "source": [
        "N=int(input())\n",
        "dp=[]\n",
        "\n",
        "dp.append(0)\n",
        "dp.append(1)\n",
        "dp.append(2)\n",
        "dp.append(3)\n",
        "dp.append(4)\n",
        "\n",
        "for i in range(5, N+1):\n",
        "    dp.append((dp[i-3]*3) % 10007)\n",
        "\n",
        "print(dp[N])"
      ]
    }
  ]
}