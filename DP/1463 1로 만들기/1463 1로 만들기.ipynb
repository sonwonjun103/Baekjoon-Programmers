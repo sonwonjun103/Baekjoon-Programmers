{
 "cells": [
  {
   "cell_type": "code",
   "execution_count": 13,
   "id": "0bc69864",
   "metadata": {},
   "outputs": [
    {
     "name": "stdout",
     "output_type": "stream",
     "text": [
      "10\n",
      "3\n"
     ]
    }
   ],
   "source": [
    "N=int(input())\n",
    "\n",
    "dp=[0]*(N+1)\n",
    "\n",
    "for i in range(2, N+1):\n",
    "    #전 숫자보다 1크니까 횟수를 + 해줌\n",
    "    dp[i]=dp[i-1]+1\n",
    "    \n",
    "    if i%3==0:\n",
    "        #나눠지면 횟수가 증가하므로 + 해주는데 안해주는 것보다 작으면 뒤에꺼 아니면 앞에꺼\n",
    "        dp[i]=min(dp[i], dp[i//3]+1)\n",
    "        \n",
    "    if i%2==0:\n",
    "        dp[i]=min(dp[i], dp[i//2]+1)\n",
    "\n",
    "print(dp[N])"
   ]
  },
  {
   "cell_type": "code",
   "execution_count": null,
   "id": "9b56966a",
   "metadata": {},
   "outputs": [],
   "source": []
  }
 ],
 "metadata": {
  "kernelspec": {
   "display_name": "Python 3 (ipykernel)",
   "language": "python",
   "name": "python3"
  },
  "language_info": {
   "codemirror_mode": {
    "name": "ipython",
    "version": 3
   },
   "file_extension": ".py",
   "mimetype": "text/x-python",
   "name": "python",
   "nbconvert_exporter": "python",
   "pygments_lexer": "ipython3",
   "version": "3.9.7"
  }
 },
 "nbformat": 4,
 "nbformat_minor": 5
}
