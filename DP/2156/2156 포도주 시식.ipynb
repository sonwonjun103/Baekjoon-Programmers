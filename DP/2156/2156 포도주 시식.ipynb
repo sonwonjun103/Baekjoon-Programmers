{
 "cells": [
  {
   "cell_type": "code",
   "execution_count": 13,
   "id": "34ce5a24",
   "metadata": {},
   "outputs": [
    {
     "name": "stdout",
     "output_type": "stream",
     "text": [
      "6\n",
      "6\n",
      "10\n",
      "13\n",
      "9\n",
      "8\n",
      "1\n",
      "33\n"
     ]
    }
   ],
   "source": [
    "def solution(x):\n",
    "    dp=[0]*len(x)\n",
    "    \n",
    "    dp[0]=x[0]\n",
    "    \n",
    "    if len(x)>1:\n",
    "        dp[1]=x[0]+x[1]\n",
    "        \n",
    "    if len(x)>2:\n",
    "        dp[2]=max(dp[1], x[2]+x[1], x[2]+x[0])\n",
    "    \n",
    "    for i in range(3,len(x)):\n",
    "        #현재꺼 안마시고, 현재+그전꺼+그전부터 마신거 , 현재+그전꺼 안마시고 이때까지 마신거\n",
    "        dp[i]=max(dp[i-1], x[i]+x[i-1]+dp[i-3], x[i]+dp[i-2])\n",
    "    return max(dp)\n",
    "\n",
    "N=int(input())\n",
    "num=[]\n",
    "for _ in range(N):\n",
    "    n=int(input())\n",
    "    num.append(n)\n",
    "    \n",
    "print(solution(num))"
   ]
  }
 ],
 "metadata": {
  "kernelspec": {
   "display_name": "Python 3 (ipykernel)",
   "language": "python",
   "name": "python3"
  },
  "language_info": {
   "codemirror_mode": {
    "name": "ipython",
    "version": 3
   },
   "file_extension": ".py",
   "mimetype": "text/x-python",
   "name": "python",
   "nbconvert_exporter": "python",
   "pygments_lexer": "ipython3",
   "version": "3.9.7"
  }
 },
 "nbformat": 4,
 "nbformat_minor": 5
}
