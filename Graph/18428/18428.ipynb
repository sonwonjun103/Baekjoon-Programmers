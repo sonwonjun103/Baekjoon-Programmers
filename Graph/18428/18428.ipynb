{
 "cells": [
  {
   "cell_type": "code",
   "execution_count": 29,
   "id": "c260ae29",
   "metadata": {},
   "outputs": [
    {
     "name": "stdout",
     "output_type": "stream",
     "text": [
      "5\n",
      "X S X X T\n",
      "T X S X X\n",
      "X X X X X\n",
      "X T X X X\n",
      "X X T X X\n",
      "YES\n"
     ]
    }
   ],
   "source": [
    "from collections import deque\n",
    "from itertools import combinations\n",
    "import copy\n",
    "\n",
    "dx=[0,0,-1,1]\n",
    "dy=[-1,1,0,0]\n",
    "\n",
    "def bfs(position, teacher):\n",
    "    queue=deque(teacher)\n",
    "    \n",
    "    c_position=copy.deepcopy(position)\n",
    "    \n",
    "    while queue:\n",
    "        x,y=queue.popleft()\n",
    "        for i in range(4):\n",
    "            index_x, index_y=x,y\n",
    "            while 1:\n",
    "                tempx=index_x+dx[i]\n",
    "                tempy=index_y+dy[i]\n",
    "                if 0<=tempx<len(c_position) and 0<=tempy<len(c_position):\n",
    "                    if c_position[tempx][tempy]=='X':\n",
    "                        #X만나면 걍 아무거나로 바꿈\n",
    "                        c_position[tempx][tempy]='A'\n",
    "                    #학생 만나면 안됨\n",
    "                    elif position[tempx][tempy]=='S':\n",
    "                        return False\n",
    "                    #장애물 만나면 학생 못만나는 거니까 okay\n",
    "                    elif c_position[tempx][tempy]=='O':\n",
    "                        break\n",
    "                    #움직인 좌표부터\n",
    "                    index_x, index_y=tempx,tempy\n",
    "                else:\n",
    "                    break\n",
    "    return True\n",
    "\n",
    "N=int(input())\n",
    "position=[]\n",
    "for _ in range(N):\n",
    "    position.append(list(map(str, input().split())))\n",
    " \n",
    "teacher=[]\n",
    "o=[]\n",
    "\n",
    "for i in range(len(position)):\n",
    "    for j in range(len(position)):\n",
    "        if position[i][j]=='T':\n",
    "            teacher.append((i,j))\n",
    "        elif position[i][j]=='X':\n",
    "            o.append((i,j))\n",
    "\n",
    "temp=0\n",
    "for i in list(combinations(o,3)):\n",
    "    #아무거나 장애물로 해놓음\n",
    "    for x,y in i:\n",
    "        position[x][y]='O'\n",
    "    \n",
    "    if bfs(position, teacher):\n",
    "        temp=1\n",
    "        break\n",
    "    \n",
    "    #원래대로\n",
    "    for x,y in i:\n",
    "        position[x][y]='X'\n",
    "\n",
    "if temp==1:\n",
    "    print('YES')\n",
    "else:\n",
    "    print('NO')"
   ]
  },
  {
   "cell_type": "code",
   "execution_count": null,
   "id": "62865bdd",
   "metadata": {},
   "outputs": [],
   "source": []
  }
 ],
 "metadata": {
  "kernelspec": {
   "display_name": "Python 3 (ipykernel)",
   "language": "python",
   "name": "python3"
  },
  "language_info": {
   "codemirror_mode": {
    "name": "ipython",
    "version": 3
   },
   "file_extension": ".py",
   "mimetype": "text/x-python",
   "name": "python",
   "nbconvert_exporter": "python",
   "pygments_lexer": "ipython3",
   "version": "3.9.7"
  }
 },
 "nbformat": 4,
 "nbformat_minor": 5
}
