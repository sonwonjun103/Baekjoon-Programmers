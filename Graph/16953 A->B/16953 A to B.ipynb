{
 "cells": [
  {
   "cell_type": "code",
   "execution_count": 8,
   "id": "fe785e1f",
   "metadata": {},
   "outputs": [
    {
     "name": "stdout",
     "output_type": "stream",
     "text": [
      "100 40021\n",
      "5\n"
     ]
    }
   ],
   "source": [
    "#bfs를 이용하기 위해 deque import\n",
    "from collections import deque\n",
    "\n",
    "A,B=map(int, input().split())\n",
    "\n",
    "cnt=0\n",
    "queue=deque([(A,cnt+1)])\n",
    "\n",
    "while queue:\n",
    "    num,s=queue.popleft()\n",
    "    \n",
    "    if num==B:\n",
    "        cnt=s\n",
    "        break\n",
    "    \n",
    "    #2곱한게 B보다 작으면 append\n",
    "    if num*2<=B:\n",
    "        queue.append((num*2, s+1))\n",
    "        \n",
    "    #1을 붙인 숫자가 B보다 작으면 append\n",
    "    if int(str(num)+'1')<=B:\n",
    "        queue.append((int(str(num)+'1'), s+1))\n",
    "        \n",
    "if cnt==0:\n",
    "    print('-1')\n",
    "else:\n",
    "    print(cnt)"
   ]
  }
 ],
 "metadata": {
  "kernelspec": {
   "display_name": "Python 3 (ipykernel)",
   "language": "python",
   "name": "python3"
  },
  "language_info": {
   "codemirror_mode": {
    "name": "ipython",
    "version": 3
   },
   "file_extension": ".py",
   "mimetype": "text/x-python",
   "name": "python",
   "nbconvert_exporter": "python",
   "pygments_lexer": "ipython3",
   "version": "3.9.7"
  }
 },
 "nbformat": 4,
 "nbformat_minor": 5
}
