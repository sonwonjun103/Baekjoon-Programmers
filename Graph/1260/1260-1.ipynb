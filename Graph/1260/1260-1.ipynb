{
 "cells": [
  {
   "cell_type": "code",
   "execution_count": 3,
   "id": "c8e7e19b",
   "metadata": {},
   "outputs": [
    {
     "name": "stdout",
     "output_type": "stream",
     "text": [
      "4 5 1\n",
      "1 2\n",
      "1 3\n",
      "1 4\n",
      "2 4\n",
      "3 4\n",
      "1 2 4 3 \n",
      "1 2 3 4 "
     ]
    }
   ],
   "source": [
    "dfsvisited=[]\n",
    "bfsvisited=[]\n",
    "bfsqueue=[]\n",
    "\n",
    "def dfs(A,start,size):\n",
    "    global dfsvisited\n",
    "    current=start\n",
    "    dfsvisited.append(current)\n",
    "    print(current, end=\" \")\n",
    "    for i in range(1,size+1):\n",
    "        if A[current][i]==1:\n",
    "            if i in dfsvisited:\n",
    "                pass\n",
    "            else:\n",
    "                dfs(A,i,size)\n",
    "                \n",
    "def bfs(A,start,size):\n",
    "    global bfsvisited, bfsqueue\n",
    "    front=rear=0\n",
    "    current=start\n",
    "    print(current, end=\" \")\n",
    "    bfsqueue.append(current)\n",
    "    rear+=1\n",
    "    bfsvisited.append(current)\n",
    "    \n",
    "    while front<rear:\n",
    "        data=bfsqueue[0]\n",
    "        front+=1\n",
    "        del(bfsqueue[0])\n",
    "        for i in range(1,size+1):\n",
    "            if A[data][i]==1:\n",
    "                if i not in bfsvisited:\n",
    "                    print(i, end=\" \")\n",
    "                    bfsqueue.append(i)\n",
    "                    rear+=1\n",
    "                    bfsvisited.append(i)    \n",
    "\n",
    "N,M,start=map(int, input().split())\n",
    "W=[[0 for _ in range(N+1)]for _ in range(N+1)]\n",
    "for _ in range(M):\n",
    "    a,b=map(int, input().split())\n",
    "    W[a][b]=1\n",
    "    W[b][a]=1\n",
    "dfs(W,start,N)\n",
    "print()\n",
    "bfs(W,start,N)"
   ]
  }
 ],
 "metadata": {
  "kernelspec": {
   "display_name": "Python 3 (ipykernel)",
   "language": "python",
   "name": "python3"
  },
  "language_info": {
   "codemirror_mode": {
    "name": "ipython",
    "version": 3
   },
   "file_extension": ".py",
   "mimetype": "text/x-python",
   "name": "python",
   "nbconvert_exporter": "python",
   "pygments_lexer": "ipython3",
   "version": "3.9.7"
  }
 },
 "nbformat": 4,
 "nbformat_minor": 5
}
