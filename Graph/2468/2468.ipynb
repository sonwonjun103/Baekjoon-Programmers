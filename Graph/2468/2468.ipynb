{
 "cells": [
  {
   "cell_type": "code",
   "execution_count": 6,
   "id": "0818ca58",
   "metadata": {},
   "outputs": [
    {
     "name": "stdout",
     "output_type": "stream",
     "text": [
      "7\n",
      "9 9 9 9 9 9 9\n",
      "9 2 1 2 1 2 9\n",
      "9 1 8 7 8 1 9\n",
      "9 2 7 9 7 2 9\n",
      "9 1 8 7 8 1 9\n",
      "9 2 1 2 1 2 9\n",
      "9 9 9 9 9 9 9\n",
      "6\n"
     ]
    }
   ],
   "source": [
    "from collections import deque\n",
    "\n",
    "N=int(input())\n",
    "graph=[]\n",
    "for _ in range(N):\n",
    "    graph.append(list(map(int, input().split())))\n",
    "\n",
    "N=len(graph)\n",
    "    \n",
    "graph_max=max(map(max,graph))\n",
    "graph_min=min(map(min,graph))\n",
    "\n",
    "dx = [-1, 1, 0, 0]\n",
    "dy = [0, 0, -1, 1]\n",
    "\n",
    "def bfs(x,y,safe_area):\n",
    "    queue = deque()\n",
    "    queue.append((x, y))\n",
    "    visited[x][y] = 1\n",
    " \n",
    "    while queue:\n",
    "        x, y = queue.popleft()\n",
    " \n",
    "        for i in range(4):\n",
    "            nx = x + dx[i]\n",
    "            ny = y + dy[i]\n",
    " \n",
    "            if 0 <= nx < N and 0 <= ny < N:\n",
    "                if graph[nx][ny] >= safe_area and visited[nx][ny] == 0:    \n",
    "                    visited[nx][ny] = 1\n",
    "                    queue.append((nx, ny))\n",
    "\n",
    "min_safe_area=graph_min\n",
    "for safe in range(graph_min, graph_max+1):\n",
    "    visited=[[0]*N for _ in range(N)]\n",
    "    temp=0\n",
    "    for i in range(N):\n",
    "        for j in range(N):\n",
    "            if graph[i][j] >= safe and visited[i][j]==0:\n",
    "                bfs(i,j,safe)\n",
    "                temp+=1\n",
    "                \n",
    "    if temp >= min_safe_area:\n",
    "        min_safe_area=temp\n",
    "print(min_safe_area)"
   ]
  },
  {
   "cell_type": "code",
   "execution_count": null,
   "id": "4a747ad6",
   "metadata": {},
   "outputs": [],
   "source": []
  },
  {
   "cell_type": "code",
   "execution_count": null,
   "id": "a36bbb6b",
   "metadata": {},
   "outputs": [],
   "source": []
  }
 ],
 "metadata": {
  "kernelspec": {
   "display_name": "Python 3 (ipykernel)",
   "language": "python",
   "name": "python3"
  },
  "language_info": {
   "codemirror_mode": {
    "name": "ipython",
    "version": 3
   },
   "file_extension": ".py",
   "mimetype": "text/x-python",
   "name": "python",
   "nbconvert_exporter": "python",
   "pygments_lexer": "ipython3",
   "version": "3.9.7"
  }
 },
 "nbformat": 4,
 "nbformat_minor": 5
}
