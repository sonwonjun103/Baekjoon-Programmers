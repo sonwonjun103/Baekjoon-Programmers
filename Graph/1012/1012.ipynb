{
 "cells": [
  {
   "cell_type": "code",
   "execution_count": 1,
   "id": "22953b0c",
   "metadata": {},
   "outputs": [
    {
     "name": "stdout",
     "output_type": "stream",
     "text": [
      "2\n",
      "10 8 17\n",
      "0 0\n",
      "1 0\n",
      "1 1\n",
      "4 2\n",
      "4 3\n",
      "4 5\n",
      "2 4\n",
      "3 4\n",
      "7 4\n",
      "8 4\n",
      "9 4\n",
      "7 5\n",
      "8 5\n",
      "9 5\n",
      "7 6\n",
      "8 6\n",
      "9 6\n",
      "5\n",
      "10 10 1\n",
      "5 5\n",
      "1\n"
     ]
    }
   ],
   "source": [
    "from collections import deque\n",
    "\n",
    "T=int(input())\n",
    "\n",
    "dx=[-1,1,0,0]\n",
    "dy=[0,0,-1,1]\n",
    "\n",
    "def bfs(graph, a,b):\n",
    "    n=len(graph)\n",
    "    queue=deque()\n",
    "    queue.append((a,b))\n",
    "    graph[a][b]=0\n",
    "    count=1\n",
    "    \n",
    "    while queue:\n",
    "        x,y=queue.popleft()\n",
    "        for i in range(4):\n",
    "            nx=x+dx[i]\n",
    "            ny=y+dy[i]\n",
    "            if nx<0 or nx>=M or ny<0 or ny>=N:\n",
    "                continue\n",
    "            if graph[nx][ny]==1:\n",
    "                graph[nx][ny]=0\n",
    "                queue.append((nx,ny))\n",
    "                count+=1\n",
    "                \n",
    "    return count\n",
    "\n",
    "for _ in range(T):\n",
    "    M,N,K=map(int, input().split())\n",
    "    graph=[[0 for _ in range(N)]for _ in range(M)]\n",
    "    result=[]\n",
    "    for _ in range(K):\n",
    "        start,end=map(int, input().split())\n",
    "        graph[start][end]=1\n",
    "        \n",
    "    for i in range(M):\n",
    "        for j in range(N):\n",
    "            if graph[i][j]==1:\n",
    "                result.append(bfs(graph,i,j))\n",
    "                \n",
    "    print(len(result))"
   ]
  }
 ],
 "metadata": {
  "kernelspec": {
   "display_name": "Python 3 (ipykernel)",
   "language": "python",
   "name": "python3"
  },
  "language_info": {
   "codemirror_mode": {
    "name": "ipython",
    "version": 3
   },
   "file_extension": ".py",
   "mimetype": "text/x-python",
   "name": "python",
   "nbconvert_exporter": "python",
   "pygments_lexer": "ipython3",
   "version": "3.9.7"
  }
 },
 "nbformat": 4,
 "nbformat_minor": 5
}
