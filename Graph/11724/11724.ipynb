{
 "cells": [
  {
   "cell_type": "code",
   "execution_count": 6,
   "id": "4b9621f0",
   "metadata": {},
   "outputs": [],
   "source": [
    "#11724\n",
    "import sys\n",
    "sys.setrecursionlimit(10000)\n",
    "input=sys.stdin.readline"
   ]
  },
  {
   "cell_type": "code",
   "execution_count": 1,
   "id": "14dbdab5",
   "metadata": {},
   "outputs": [
    {
     "name": "stdout",
     "output_type": "stream",
     "text": [
      "6 5\n",
      "1 2\n",
      "2 5\n",
      "5 1\n",
      "3 4\n",
      "4 6\n",
      "2\n"
     ]
    }
   ],
   "source": [
    "def dfs(n):\n",
    "    visited[n]=1\n",
    "    for i in range(1,N+1):\n",
    "        if visited[i]==0 and W[n][i]==1:\n",
    "            dfs(i)\n",
    "\n",
    "N,M=map(int, input().split())\n",
    "W=[[0 for _ in range(N+1)]for _ in range(N+1)]\n",
    "visited=[0]*(N+1)\n",
    "for _ in range(M):\n",
    "    start,end=map(int, input().split())\n",
    "    W[start][end]=1\n",
    "    W[end][start]=1\n",
    "count=0\n",
    "for i in range(1,N+1):\n",
    "    if visited[i]==0:\n",
    "        dfs(i)\n",
    "        count+=1\n",
    "print(count)"
   ]
  },
  {
   "cell_type": "code",
   "execution_count": null,
   "id": "c64d759c",
   "metadata": {},
   "outputs": [],
   "source": []
  }
 ],
 "metadata": {
  "kernelspec": {
   "display_name": "Python 3 (ipykernel)",
   "language": "python",
   "name": "python3"
  },
  "language_info": {
   "codemirror_mode": {
    "name": "ipython",
    "version": 3
   },
   "file_extension": ".py",
   "mimetype": "text/x-python",
   "name": "python",
   "nbconvert_exporter": "python",
   "pygments_lexer": "ipython3",
   "version": "3.9.7"
  }
 },
 "nbformat": 4,
 "nbformat_minor": 5
}
