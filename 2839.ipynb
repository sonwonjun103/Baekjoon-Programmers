{
  "nbformat": 4,
  "nbformat_minor": 0,
  "metadata": {
    "colab": {
      "name": "2839.ipynb",
      "provenance": [],
      "collapsed_sections": [],
      "authorship_tag": "ABX9TyPKu5l6qHYfg6Lt1TMWj4vT",
      "include_colab_link": true
    },
    "kernelspec": {
      "name": "python3",
      "display_name": "Python 3"
    },
    "language_info": {
      "name": "python"
    }
  },
  "cells": [
    {
      "cell_type": "markdown",
      "metadata": {
        "id": "view-in-github",
        "colab_type": "text"
      },
      "source": [
        "<a href=\"https://colab.research.google.com/github/sonwonjun103/Baekjoon/blob/main/2839.ipynb\" target=\"_parent\"><img src=\"https://colab.research.google.com/assets/colab-badge.svg\" alt=\"Open In Colab\"/></a>"
      ]
    },
    {
      "cell_type": "code",
      "execution_count": 6,
      "metadata": {
        "colab": {
          "base_uri": "https://localhost:8080/"
        },
        "id": "znX8aMDLhMT4",
        "outputId": "649e4175-afe3-46ef-c75c-2d03bd467b4d"
      },
      "outputs": [
        {
          "output_type": "stream",
          "name": "stdout",
          "text": [
            "11\n",
            "3\n"
          ]
        }
      ],
      "source": [
        "N=int(input())\n",
        "\n",
        "count=0\n",
        "while 1:\n",
        "    #5키로만 사용\n",
        "    if N%5==0:\n",
        "        a=N//5\n",
        "        count+=a\n",
        "        break\n",
        "    N-=3\n",
        "    count+=1\n",
        "\n",
        "if N<0:\n",
        "    print('-1')\n",
        "else:\n",
        "    print(count)"
      ]
    }
  ]
}