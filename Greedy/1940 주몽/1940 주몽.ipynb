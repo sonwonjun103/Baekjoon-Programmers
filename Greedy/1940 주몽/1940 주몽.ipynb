{
 "cells": [
  {
   "cell_type": "code",
   "execution_count": 2,
   "id": "37c4404e",
   "metadata": {},
   "outputs": [
    {
     "name": "stdout",
     "output_type": "stream",
     "text": [
      "6\n",
      "9\n",
      "2 7 4 1 5 3\n",
      "2\n"
     ]
    }
   ],
   "source": [
    "N=int(input())\n",
    "M=int(input())\n",
    "\n",
    "f=list(map(int, input().split()))\n",
    "\n",
    "cnt=0\n",
    "\n",
    "for i in range(len(f)):\n",
    "    if M-f[i] in f:\n",
    "        cnt+=1\n",
    "        \n",
    "print(cnt//2)"
   ]
  }
 ],
 "metadata": {
  "kernelspec": {
   "display_name": "Python 3 (ipykernel)",
   "language": "python",
   "name": "python3"
  },
  "language_info": {
   "codemirror_mode": {
    "name": "ipython",
    "version": 3
   },
   "file_extension": ".py",
   "mimetype": "text/x-python",
   "name": "python",
   "nbconvert_exporter": "python",
   "pygments_lexer": "ipython3",
   "version": "3.9.7"
  }
 },
 "nbformat": 4,
 "nbformat_minor": 5
}
