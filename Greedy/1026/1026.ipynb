{
 "cells": [
  {
   "cell_type": "code",
   "execution_count": 1,
   "id": "a2dca5e2",
   "metadata": {},
   "outputs": [
    {
     "name": "stdout",
     "output_type": "stream",
     "text": [
      "5\n",
      "1 1 1 6 0\n",
      "2 7 8 3 1\n",
      "18\n"
     ]
    }
   ],
   "source": [
    "N=int(input())\n",
    "A=list(map(int, input().split()))\n",
    "B=list(map(int, input().split()))\n",
    "\n",
    "A.sort()\n",
    "B.sort(reverse=True)\n",
    "ans=0\n",
    "for i in range(N):\n",
    "    ans+=(A[i]*B[i])\n",
    "print(ans)"
   ]
  }
 ],
 "metadata": {
  "kernelspec": {
   "display_name": "Python 3 (ipykernel)",
   "language": "python",
   "name": "python3"
  },
  "language_info": {
   "codemirror_mode": {
    "name": "ipython",
    "version": 3
   },
   "file_extension": ".py",
   "mimetype": "text/x-python",
   "name": "python",
   "nbconvert_exporter": "python",
   "pygments_lexer": "ipython3",
   "version": "3.9.7"
  }
 },
 "nbformat": 4,
 "nbformat_minor": 5
}
