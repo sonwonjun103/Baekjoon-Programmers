{
 "cells": [
  {
   "cell_type": "code",
   "execution_count": 16,
   "id": "40b6bf8d",
   "metadata": {},
   "outputs": [
    {
     "name": "stdout",
     "output_type": "stream",
     "text": [
      "10 3\n",
      "20 8\n",
      "40 7\n",
      "60 4\n",
      "36\n"
     ]
    }
   ],
   "source": [
    "N,M=map(int, input().split())\n",
    "\n",
    "p=[]\n",
    "np=[]\n",
    "\n",
    "for _ in range(M):\n",
    "    package, not_package=map(int, input().split())\n",
    "    p.append(package)\n",
    "    np.append(not_package)\n",
    "    \n",
    "cost=0\n",
    "p.sort()\n",
    "np.sort()\n",
    "\n",
    "if p[0]<np[0]*6:\n",
    "    a=p[0]*(N//6)+np[0]*(N%6)\n",
    "    b=p[0]*(N//6+1)\n",
    "\n",
    "    cost=min(a,b)\n",
    "else:\n",
    "    cost=np[0]*N\n",
    "\n",
    "print(cost)"
   ]
  }
 ],
 "metadata": {
  "kernelspec": {
   "display_name": "Python 3 (ipykernel)",
   "language": "python",
   "name": "python3"
  },
  "language_info": {
   "codemirror_mode": {
    "name": "ipython",
    "version": 3
   },
   "file_extension": ".py",
   "mimetype": "text/x-python",
   "name": "python",
   "nbconvert_exporter": "python",
   "pygments_lexer": "ipython3",
   "version": "3.9.7"
  }
 },
 "nbformat": 4,
 "nbformat_minor": 5
}
