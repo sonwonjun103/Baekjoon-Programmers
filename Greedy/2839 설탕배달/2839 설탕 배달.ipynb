{
 "cells": [
  {
   "cell_type": "code",
   "execution_count": 7,
   "id": "df43b2f8",
   "metadata": {},
   "outputs": [
    {
     "name": "stdout",
     "output_type": "stream",
     "text": [
      "11\n",
      "3\n"
     ]
    }
   ],
   "source": [
    "N=int(input())\n",
    "\n",
    "def check(N):\n",
    "    cnt=0\n",
    "    while 1:\n",
    "        if (N%5)==0:\n",
    "            a=N//5\n",
    "            cnt+=a\n",
    "            break\n",
    "        N-=3\n",
    "        cnt+=1\n",
    "        \n",
    "    if N<0:\n",
    "        return -1\n",
    "    else:\n",
    "        return cnt\n",
    "    \n",
    "print(check(N))"
   ]
  },
  {
   "cell_type": "code",
   "execution_count": null,
   "id": "e21f3cc6",
   "metadata": {},
   "outputs": [],
   "source": []
  }
 ],
 "metadata": {
  "kernelspec": {
   "display_name": "Python 3 (ipykernel)",
   "language": "python",
   "name": "python3"
  },
  "language_info": {
   "codemirror_mode": {
    "name": "ipython",
    "version": 3
   },
   "file_extension": ".py",
   "mimetype": "text/x-python",
   "name": "python",
   "nbconvert_exporter": "python",
   "pygments_lexer": "ipython3",
   "version": "3.9.7"
  }
 },
 "nbformat": 4,
 "nbformat_minor": 5
}
