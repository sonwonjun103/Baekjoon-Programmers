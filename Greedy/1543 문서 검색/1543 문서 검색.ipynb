{
 "cells": [
  {
   "cell_type": "code",
   "execution_count": 4,
   "id": "5d420353",
   "metadata": {},
   "outputs": [
    {
     "name": "stdout",
     "output_type": "stream",
     "text": [
      "aaaaaa\n",
      "aa\n",
      "3\n"
     ]
    }
   ],
   "source": [
    "S=input()\n",
    "find=input()\n",
    "\n",
    "print(S.count(find))"
   ]
  },
  {
   "cell_type": "code",
   "execution_count": 7,
   "id": "d84c5b10",
   "metadata": {},
   "outputs": [
    {
     "name": "stdout",
     "output_type": "stream",
     "text": [
      "ababababa\n",
      "ababa\n",
      "1\n"
     ]
    }
   ],
   "source": [
    "S=input()\n",
    "find=input()\n",
    "cnt=0\n",
    "index=0\n",
    "\n",
    "while index<=len(S)-len(find):\n",
    "    if S[index:index+len(find)]==find:#찾는 단어가 있으면\n",
    "        cnt+=1\n",
    "        index+=len(find)#찾는 단어의 길이만큼 더하기\n",
    "    else:# 못찾으면\n",
    "        index+=1#다음 인덱스부터 찾기 위해 1를 더해줌\n",
    "print(cnt)"
   ]
  }
 ],
 "metadata": {
  "kernelspec": {
   "display_name": "Python 3 (ipykernel)",
   "language": "python",
   "name": "python3"
  },
  "language_info": {
   "codemirror_mode": {
    "name": "ipython",
    "version": 3
   },
   "file_extension": ".py",
   "mimetype": "text/x-python",
   "name": "python",
   "nbconvert_exporter": "python",
   "pygments_lexer": "ipython3",
   "version": "3.9.7"
  }
 },
 "nbformat": 4,
 "nbformat_minor": 5
}
