{
 "cells": [
  {
   "cell_type": "code",
   "execution_count": 14,
   "id": "b2eed3b6",
   "metadata": {},
   "outputs": [
    {
     "name": "stdout",
     "output_type": "stream",
     "text": [
      "11101101\n",
      "2\n"
     ]
    }
   ],
   "source": [
    "S=input()\n",
    "\n",
    "c=['01', '10']\n",
    "\n",
    "a=S.count(c[0])\n",
    "b=S.count(c[1])\n",
    "\n",
    "print((a+b+1)//2)"
   ]
  }
 ],
 "metadata": {
  "kernelspec": {
   "display_name": "Python 3 (ipykernel)",
   "language": "python",
   "name": "python3"
  },
  "language_info": {
   "codemirror_mode": {
    "name": "ipython",
    "version": 3
   },
   "file_extension": ".py",
   "mimetype": "text/x-python",
   "name": "python",
   "nbconvert_exporter": "python",
   "pygments_lexer": "ipython3",
   "version": "3.9.7"
  }
 },
 "nbformat": 4,
 "nbformat_minor": 5
}
