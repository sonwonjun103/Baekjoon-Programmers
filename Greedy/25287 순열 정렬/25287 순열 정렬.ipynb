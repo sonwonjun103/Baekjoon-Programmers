{
 "cells": [
  {
   "cell_type": "code",
   "execution_count": 2,
   "id": "1baa1a86",
   "metadata": {},
   "outputs": [
    {
     "name": "stdout",
     "output_type": "stream",
     "text": [
      "5\n",
      "1\n",
      "1\n",
      "YES\n",
      "2\n",
      "2 1\n",
      "YES\n",
      "3\n",
      "2 3 1\n",
      "YES\n",
      "5\n",
      "5 2 3 4 1\n",
      "YES\n",
      "5\n",
      "2 5 3 4 1\n",
      "NO\n"
     ]
    }
   ],
   "source": [
    "T=int(input())\n",
    "\n",
    "#감소하지 않도록 ==> 증가\n",
    "def check(N,num):\n",
    "    mid=(N+1)/2\n",
    "    result=[]\n",
    "    \n",
    "    h=True\n",
    "    if N<3:\n",
    "        return 'YES'\n",
    "    else:\n",
    "        for i in range(N):\n",
    "            if i==0:\n",
    "                if num[i]<mid:\n",
    "                    result.append(num[i])\n",
    "                    temp=result[i]\n",
    "                else:\n",
    "                    result.append(N-num[i]+1)\n",
    "                    temp=result[i]\n",
    "            else:\n",
    "                a,b=num[i], N-num[i]+1\n",
    "                #들어갈 숫자가 이미 들어가 있는 숫자보다 작다면 감소하므로 x\n",
    "                if (a<temp) and (b<temp):\n",
    "                    h=False\n",
    "                    break\n",
    "                else:\n",
    "                    if a>b:\n",
    "                        if b>=temp:\n",
    "                            result.append(b)\n",
    "                            temp=b\n",
    "                        else:\n",
    "                            result.append(a)\n",
    "                            temp=a\n",
    "                    else:\n",
    "                        if a>=temp:\n",
    "                            result.append(a)\n",
    "                            temp=a\n",
    "                        else:\n",
    "                            result.append(b)\n",
    "                            temp=b\n",
    "                            \n",
    "        if h==True:\n",
    "            return 'YES'\n",
    "        else:\n",
    "            return 'NO'\n",
    "\n",
    "for _ in range(T):\n",
    "    N=int(input())\n",
    "    num=list(map(int, input().split()))\n",
    "    print(check(N,num))"
   ]
  }
 ],
 "metadata": {
  "kernelspec": {
   "display_name": "Python 3 (ipykernel)",
   "language": "python",
   "name": "python3"
  },
  "language_info": {
   "codemirror_mode": {
    "name": "ipython",
    "version": 3
   },
   "file_extension": ".py",
   "mimetype": "text/x-python",
   "name": "python",
   "nbconvert_exporter": "python",
   "pygments_lexer": "ipython3",
   "version": "3.9.7"
  }
 },
 "nbformat": 4,
 "nbformat_minor": 5
}
