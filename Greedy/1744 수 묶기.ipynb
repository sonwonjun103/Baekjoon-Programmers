{
 "cells": [
  {
   "cell_type": "code",
   "execution_count": 2,
   "id": "6c5f4efe",
   "metadata": {},
   "outputs": [
    {
     "name": "stdout",
     "output_type": "stream",
     "text": [
      "6\n",
      "0\n",
      "1\n",
      "2\n",
      "4\n",
      "3\n",
      "5\n",
      "27\n"
     ]
    }
   ],
   "source": [
    "N = int(input())\n",
    "positive=[]\n",
    "negative=[]\n",
    "one=[]\n",
    "\n",
    "for _ in range(N):\n",
    "    n = int(input())\n",
    "    if n > 1:\n",
    "        positive.append(n)\n",
    "    elif n <= 0:\n",
    "        negative.append(n)\n",
    "    else:\n",
    "        one.append(n)\n",
    "\n",
    "positive.sort(reverse=True)\n",
    "negative.sort()\n",
    "\n",
    "result = 0\n",
    "\n",
    "if len(positive)%2==0:\n",
    "    for i in range(0,len(positive),2):\n",
    "        result+=positive[i] * positive[i+1]\n",
    "else:\n",
    "    for i in range(0,len(positive)-1,2):\n",
    "        result+=positive[i] * positive[i+1]\n",
    "    result+=positive[len(positive)-1] \n",
    "\n",
    "\n",
    "if len(negative) % 2 == 0:\n",
    "    for i in range(0,len(negative),2):\n",
    "        result+=negative[i] * negative[i+1]\n",
    "else:\n",
    "    for i in range(0,len(negative)-1,2):\n",
    "        result+=negative[i] * negative[i+1]\n",
    "    result+=negative[len(negative)-1] \n",
    "result+=sum(one)\n",
    "\n",
    "print(result)"
   ]
  }
 ],
 "metadata": {
  "kernelspec": {
   "display_name": "Python 3 (ipykernel)",
   "language": "python",
   "name": "python3"
  },
  "language_info": {
   "codemirror_mode": {
    "name": "ipython",
    "version": 3
   },
   "file_extension": ".py",
   "mimetype": "text/x-python",
   "name": "python",
   "nbconvert_exporter": "python",
   "pygments_lexer": "ipython3",
   "version": "3.9.7"
  }
 },
 "nbformat": 4,
 "nbformat_minor": 5
}
